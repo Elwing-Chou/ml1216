{
  "nbformat": 4,
  "nbformat_minor": 0,
  "metadata": {
    "colab": {
      "name": "fashion_mnist.ipynb",
      "private_outputs": true,
      "provenance": [],
      "authorship_tag": "ABX9TyO2rCwHU4ph0ULnCY+VgboB",
      "include_colab_link": true
    },
    "kernelspec": {
      "name": "python3",
      "display_name": "Python 3"
    },
    "accelerator": "GPU"
  },
  "cells": [
    {
      "cell_type": "markdown",
      "metadata": {
        "id": "view-in-github",
        "colab_type": "text"
      },
      "source": [
        "<a href=\"https://colab.research.google.com/github/Elwing-Chou/ml1216/blob/main/fashion_mnist.ipynb\" target=\"_parent\"><img src=\"https://colab.research.google.com/assets/colab-badge.svg\" alt=\"Open In Colab\"/></a>"
      ]
    },
    {
      "cell_type": "code",
      "metadata": {
        "id": "27bMACun5GZI"
      },
      "source": [
        "from tensorflow.keras.datasets.fashion_mnist import load_data\r\n",
        "# ((訓練圖片 訓練答案), (測試圖片 測試答案))\r\n",
        "(x_train, y_train), (x_test, y_test) = load_data()"
      ],
      "execution_count": null,
      "outputs": []
    },
    {
      "cell_type": "code",
      "metadata": {
        "id": "7PdbNJQO6x6I"
      },
      "source": [
        "print(x_train.shape)\r\n",
        "print(y_train.shape)\r\n",
        "print(x_test.shape)\r\n",
        "print(y_test.shape)"
      ],
      "execution_count": null,
      "outputs": []
    },
    {
      "cell_type": "code",
      "metadata": {
        "id": "gnnZ45Q7v8gb"
      },
      "source": [
        "labels = [\r\n",
        "    \"T-shirt\",\r\n",
        "    \"Trouser\",\r\n",
        "    \"Pullover\",\r\n",
        "    \"Dress\",\r\n",
        "    \"Coat\",\r\n",
        "    \"Sandal\",\r\n",
        "    \"Shirt\",\r\n",
        "    \"Sneaker\",\r\n",
        "    \"Bag\",\r\n",
        "    \"Boot\"      \r\n",
        "]\r\n"
      ],
      "execution_count": null,
      "outputs": []
    },
    {
      "cell_type": "code",
      "metadata": {
        "id": "G80t8GFp7I9i"
      },
      "source": [
        "import pandas as pd\r\n",
        "print(labels[y_train[5]])\r\n",
        "pd.DataFrame(x_train[5])"
      ],
      "execution_count": null,
      "outputs": []
    },
    {
      "cell_type": "code",
      "metadata": {
        "id": "hZ8Sg6Qm7iLL"
      },
      "source": [
        "# https://matplotlib.org/3.1.0/tutorials/colors/colormaps.html\r\n",
        "import matplotlib.pyplot as plt\r\n",
        "plt.imshow(x_train[5], cmap=\"gray\")"
      ],
      "execution_count": null,
      "outputs": []
    },
    {
      "cell_type": "code",
      "metadata": {
        "id": "QMiX5Caz_ypO"
      },
      "source": [
        "from tensorflow.keras.models import Sequential\r\n",
        "from tensorflow.keras.layers import Dense\r\n",
        "layers = [\r\n",
        "    # 784 * 128 + 128(bias)\r\n",
        "    Dense(256, activation=\"relu\", input_dim=784),\r\n",
        "    # 128 * 10 + 10(bias)\r\n",
        "    Dense(10, activation=\"softmax\")\r\n",
        "]\r\n",
        "model = Sequential(layers)\r\n",
        "model.summary()"
      ],
      "execution_count": null,
      "outputs": []
    },
    {
      "cell_type": "code",
      "metadata": {
        "id": "peEfKoe5R34Z"
      },
      "source": [
        "# 輸出一個: binary crossentropy\r\n",
        "# 輸出多個: categorical crossentropy\r\n",
        "from tensorflow.keras.losses import CategoricalCrossentropy\r\n",
        "model.compile(loss=CategoricalCrossentropy(),\r\n",
        "       optimizer=\"adam\",\r\n",
        "       metrics=[\"accuracy\"])"
      ],
      "execution_count": null,
      "outputs": []
    },
    {
      "cell_type": "code",
      "metadata": {
        "id": "A76YjbzUc78h"
      },
      "source": [
        "# 預處理\r\n",
        "# x: 1.reshape 2.scaling\r\n",
        "# y: one-hot\r\n",
        "from tensorflow.keras.utils import to_categorical\r\n",
        "x_train_r = x_train.reshape(-1, 784) / 255\r\n",
        "x_test_r = x_test.reshape(-1, 784) / 255\r\n",
        "y_train_cat = to_categorical(y_train, num_classes=10)\r\n",
        "y_test_cat = to_categorical(y_test, num_classes=10)\r\n",
        "print(x_train_r.shape)\r\n",
        "print(y_train_cat[0])\r\n",
        "print(y_train[0])"
      ],
      "execution_count": null,
      "outputs": []
    },
    {
      "cell_type": "code",
      "metadata": {
        "id": "XRE8_CvlhEM3"
      },
      "source": [
        "from tensorflow.keras.callbacks import ModelCheckpoint, EarlyStopping\r\n",
        "callbacks = [\r\n",
        "    EarlyStopping(patience=5, restore_best_weights=True),\r\n",
        "    ModelCheckpoint(\"mlp.h5\", save_best_only=True)\r\n",
        "]\r\n",
        "# validation_split: 切出一部分資料驗證\r\n",
        "# batch_size: 看多少筆才做一次調整(梯度下降)\r\n",
        "# epochs: 訓練次數(60000-6000筆/epoch)\r\n",
        "# 1 epoch 多少次梯度下降: 54000 / 200 -> 270\r\n",
        "# verbose: 印出多少log(1:default 0:quiet 2:)\r\n",
        "model.fit(x_train_r, \r\n",
        "     y_train_cat,\r\n",
        "     validation_split=0.1,\r\n",
        "     batch_size=200,\r\n",
        "     epochs=50,\r\n",
        "     verbose=2,\r\n",
        "     callbacks=callbacks)"
      ],
      "execution_count": null,
      "outputs": []
    },
    {
      "cell_type": "code",
      "metadata": {
        "id": "f-MoMhG2oRYv"
      },
      "source": [
        "model.evaluate(x_test_r, y_test_cat)"
      ],
      "execution_count": null,
      "outputs": []
    },
    {
      "cell_type": "code",
      "metadata": {
        "id": "K66G2sMDYrVu"
      },
      "source": [
        "# sklearn: predict_proba/predict\r\n",
        "# keras: predict/predict_classes\r\n",
        "from sklearn.metrics import confusion_matrix\r\n",
        "pre = model.predict_classes(x_test_r)\r\n",
        "mat = confusion_matrix(y_test, pre)\r\n",
        "pd.DataFrame(mat,\r\n",
        "       index=[\"{}(真實)\".format(labels[i]) for i in range(10)],\r\n",
        "       columns=[\"{}(預測)\".format(labels[i]) for i in range(10)])"
      ],
      "execution_count": null,
      "outputs": []
    },
    {
      "cell_type": "code",
      "metadata": {
        "id": "wlO3lVsKaVvW"
      },
      "source": [
        "import numpy as np\r\n",
        "idx = np.nonzero(pre != y_test)[0]\r\n",
        "idx = idx[:200]\r\n",
        "false_pre = pre[idx]\r\n",
        "false_ori = y_test[idx]\r\n",
        "false_img = x_test[idx]\r\n",
        "\r\n",
        "plt.figure(figsize=(14, 42))\r\n",
        "width = 10\r\n",
        "height = len(idx) // width + 1\r\n",
        "for i in range(len(idx)):\r\n",
        "    plt.subplot(height, width, i+1)\r\n",
        "    t = \"[O]:{}\\n[P]:{}\".format(labels[false_ori[i]], labels[false_pre[i]])\r\n",
        "    plt.title(t)\r\n",
        "    plt.axis(\"off\")\r\n",
        "    plt.imshow(false_img[i], cmap=\"gray\")"
      ],
      "execution_count": null,
      "outputs": []
    },
    {
      "cell_type": "code",
      "metadata": {
        "id": "qmYIDjwued_l"
      },
      "source": [
        "# PIL(pillow)\r\n",
        "from tensorflow.keras.preprocessing.image import load_img\r\n",
        "from PIL import Image\r\n",
        "import requests\r\n",
        "url = input(\"url:\")\r\n",
        "headers = {\r\n",
        "    \"user-agent\":\"Mozilla/5.0 (Windows NT 10.0; Win64; x64) AppleWebKit/537.36 (KHTML, like Gecko) Chrome/87.0.4280.88 Safari/537.36\"\r\n",
        "}\r\n",
        "response = requests.get(url, stream=True, verify=False, headers=headers)\r\n",
        "\r\n",
        "img = Image.open(response.raw).resize((28, 28)).convert(\"L\")\r\n",
        "img = np.array(img)\r\n",
        "img_r = img.reshape(1, 784) / 255\r\n",
        "proba = model.predict(img_r)[0]\r\n",
        "for i in range(10):\r\n",
        "    print(labels[i], \"的機率:\", round(proba[i], 3))\r\n",
        "ans = model.predict_classes(img_r)[0]\r\n",
        "print(\"答案:\", labels[ans])\r\n",
        "plt.imshow(img, cmap=\"gray\")"
      ],
      "execution_count": null,
      "outputs": []
    }
  ]
}