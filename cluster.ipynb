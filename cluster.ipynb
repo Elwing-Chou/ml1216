{
  "nbformat": 4,
  "nbformat_minor": 0,
  "metadata": {
    "colab": {
      "name": "cluster.ipynb",
      "private_outputs": true,
      "provenance": [],
      "collapsed_sections": [],
      "authorship_tag": "ABX9TyOR3v6IzeJ4PXBy4a5GRRts",
      "include_colab_link": true
    },
    "kernelspec": {
      "name": "python3",
      "display_name": "Python 3"
    }
  },
  "cells": [
    {
      "cell_type": "markdown",
      "metadata": {
        "id": "view-in-github",
        "colab_type": "text"
      },
      "source": [
        "<a href=\"https://colab.research.google.com/github/Elwing-Chou/ml1216/blob/main/cluster.ipynb\" target=\"_parent\"><img src=\"https://colab.research.google.com/assets/colab-badge.svg\" alt=\"Open In Colab\"/></a>"
      ]
    },
    {
      "cell_type": "code",
      "metadata": {
        "id": "DjuvVmbJgSuQ"
      },
      "source": [
        "import pandas as pd\r\n",
        "from sklearn.datasets import load_iris\r\n",
        "iris = load_iris()\r\n",
        "df = pd.DataFrame(iris[\"data\"], \r\n",
        "          columns=iris[\"feature_names\"])\r\n",
        "df"
      ],
      "execution_count": null,
      "outputs": []
    },
    {
      "cell_type": "code",
      "metadata": {
        "id": "wggi6vBwXjb3"
      },
      "source": [
        "from sklearn.cluster import KMeans\r\n",
        "cluster = KMeans(n_clusters=3)\r\n",
        "cluster.fit(iris[\"data\"])"
      ],
      "execution_count": null,
      "outputs": []
    },
    {
      "cell_type": "code",
      "metadata": {
        "id": "VLz3_mBzmUS7"
      },
      "source": [
        "df[\"label\"] = cluster.labels_\r\n",
        "df"
      ],
      "execution_count": null,
      "outputs": []
    },
    {
      "cell_type": "code",
      "metadata": {
        "id": "xDl1oBJhm6ss"
      },
      "source": [
        "cluster.cluster_centers_"
      ],
      "execution_count": null,
      "outputs": []
    },
    {
      "cell_type": "code",
      "metadata": {
        "id": "p3WClB5Fsive"
      },
      "source": [
        "from sklearn.metrics import silhouette_score\r\n",
        "for k in range(2, 10):\r\n",
        "    test = KMeans(n_clusters=k)\r\n",
        "    test.fit(iris[\"data\"])\r\n",
        "    score = silhouette_score(iris[\"data\"], test.labels_)\r\n",
        "    print(k, score)"
      ],
      "execution_count": null,
      "outputs": []
    },
    {
      "cell_type": "code",
      "metadata": {
        "id": "qcCelYmjtnfi"
      },
      "source": [
        "import matplotlib.pyplot as plt\r\n",
        "import seaborn as sns\r\n",
        "sns.scatterplot(df[\"sepal length (cm)\"],\r\n",
        "        df[\"petal length (cm)\"],\r\n",
        "        hue=iris[\"target\"])"
      ],
      "execution_count": null,
      "outputs": []
    }
  ]
}