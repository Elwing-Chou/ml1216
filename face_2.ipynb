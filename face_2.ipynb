{
  "nbformat": 4,
  "nbformat_minor": 0,
  "metadata": {
    "colab": {
      "name": "face_2.ipynb",
      "private_outputs": true,
      "provenance": [],
      "authorship_tag": "ABX9TyMBhA+OXNAZTI3xOXqxuVwY",
      "include_colab_link": true
    },
    "kernelspec": {
      "name": "python3",
      "display_name": "Python 3"
    },
    "accelerator": "GPU"
  },
  "cells": [
    {
      "cell_type": "markdown",
      "metadata": {
        "id": "view-in-github",
        "colab_type": "text"
      },
      "source": [
        "<a href=\"https://colab.research.google.com/github/Elwing-Chou/ml1216/blob/main/face_2.ipynb\" target=\"_parent\"><img src=\"https://colab.research.google.com/assets/colab-badge.svg\" alt=\"Open In Colab\"/></a>"
      ]
    },
    {
      "cell_type": "code",
      "metadata": {
        "id": "p7hzNcavrBKN"
      },
      "source": [
        "!pip install face_recognition"
      ],
      "execution_count": null,
      "outputs": []
    },
    {
      "cell_type": "code",
      "metadata": {
        "id": "qp9zyI1Qt6Zh"
      },
      "source": [
        "# PIL: Pillow\n",
        "import face_recognition\n",
        "import matplotlib.pyplot as plt\n",
        "img = face_recognition.load_image_file(\"新垣結衣.jpg\")\n",
        "# face_encodings(img)\n",
        "locs = face_recognition.face_locations(img, model=\"cnn\")\n",
        "ens = face_recognition.face_encodings(img, known_face_locations=locs)\n",
        "print(\"128:\", ens[0])\n",
        "plt.imshow(img)"
      ],
      "execution_count": null,
      "outputs": []
    },
    {
      "cell_type": "code",
      "metadata": {
        "id": "vG-d0Uwsvsdw"
      },
      "source": [
        "import glob\n",
        "subs = [\"jpg\", \"jpeg\", \"png\"]\n",
        "fns = []\n",
        "for sub in subs:\n",
        "    fns = fns + glob.glob(\"*.{}\".format(sub))\n",
        "    fns = fns + glob.glob(\"*.{}\".format(sub.upper()))\n",
        "names = map(lambda s:s.split(\".\")[0], fns)\n",
        "names = list(names)\n",
        "def en(fn):\n",
        "    img = face_recognition.load_image_file(fn)\n",
        "    locs = face_recognition.face_locations(img, model=\"cnn\")\n",
        "    ens = face_recognition.face_encodings(img, known_face_locations=locs)\n",
        "    return ens[0]\n",
        "encodings = map(en, fns)\n",
        "encodings = list(encodings)\n",
        "# names, encodings"
      ],
      "execution_count": null,
      "outputs": []
    },
    {
      "cell_type": "code",
      "metadata": {
        "id": "16suTp4nxZg8"
      },
      "source": [
        "import requests\n",
        "import cv2\n",
        "url = input(\"請輸入網址:\")\n",
        "headers = {\n",
        "    \"user-agent\": \"Mozilla/5.0 (Macintosh; Intel Mac OS X 10_13_6) AppleWebKit/537.36 (KHTML, like Gecko) Chrome/87.0.4280.67 Safari/537.36\"\n",
        "}\n",
        "response = requests.get(url, headers=headers, stream=True, verify=False)\n",
        "img = face_recognition.load_image_file(response.raw)\n",
        "locs = face_recognition.face_locations(img, model=\"cnn\")\n",
        "ens = face_recognition.face_encodings(img, known_face_locations=locs)\n",
        "for i, (loc, en) in enumerate(zip(locs, ens)):\n",
        "    top, right, bottom, left = loc\n",
        "    cv2.rectangle(img, (left, top), (right, bottom), (255, 0, 0), 2)\n",
        "    font = cv2.FONT_HERSHEY_DUPLEX\n",
        "    cv2.putText(img, str(i), (left + 6, bottom - 6), font, 1.0, (255, 0, 0), 3)\n",
        "    distances = face_recognition.face_distance(en, encodings)\n",
        "    for n, d in zip(names, distances):\n",
        "        print(\"跟\", n, \"的距離:\", d)\n",
        "    ans = names[distances.argmin()]\n",
        "    print(\"答案:\", ans)\n",
        "    print(\"-\" * 30)\n",
        "plt.imshow(img)"
      ],
      "execution_count": null,
      "outputs": []
    }
  ]
}