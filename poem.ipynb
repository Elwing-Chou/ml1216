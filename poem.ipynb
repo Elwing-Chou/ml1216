{
  "nbformat": 4,
  "nbformat_minor": 0,
  "metadata": {
    "colab": {
      "name": "poem.ipynb",
      "private_outputs": true,
      "provenance": [],
      "authorship_tag": "ABX9TyOtqTuqebx1GbKfRREhm7Tk",
      "include_colab_link": true
    },
    "kernelspec": {
      "name": "python3",
      "display_name": "Python 3"
    }
  },
  "cells": [
    {
      "cell_type": "markdown",
      "metadata": {
        "id": "view-in-github",
        "colab_type": "text"
      },
      "source": [
        "<a href=\"https://colab.research.google.com/github/Elwing-Chou/ml1216/blob/main/poem.ipynb\" target=\"_parent\"><img src=\"https://colab.research.google.com/assets/colab-badge.svg\" alt=\"Open In Colab\"/></a>"
      ]
    },
    {
      "cell_type": "code",
      "metadata": {
        "id": "5UeFu4eGqpit"
      },
      "source": [
        "from urllib.request import urlretrieve\r\n",
        "url = \"https://github.com/Elwing-Chou/ml1216/raw/main/poem_train.csv\"\r\n",
        "urlretrieve(url, \"train.csv\")\r\n",
        "url = \"https://github.com/Elwing-Chou/ml1216/raw/main/poem_test.csv\"\r\n",
        "urlretrieve(url, \"test.csv\")"
      ],
      "execution_count": null,
      "outputs": []
    },
    {
      "cell_type": "code",
      "metadata": {
        "id": "OA8R6QDgsY-c"
      },
      "source": [
        "import pandas as pd\r\n",
        "train = pd.read_csv(\"train.csv\", encoding=\"utf-8\")\r\n",
        "test = pd.read_csv(\"test.csv\", encoding=\"utf-8\")\r\n",
        "train"
      ],
      "execution_count": null,
      "outputs": []
    },
    {
      "cell_type": "code",
      "metadata": {
        "id": "2c6Y8fbPtGSd"
      },
      "source": [
        "# Series: unique/value_counts\r\n",
        "writers = train[\"作者\"].unique()\r\n",
        "trans = {n:i for i, n in enumerate(writers)}\r\n",
        "trans_r = {i:n for i, n in enumerate(writers)}\r\n",
        "# Series: replace\r\n",
        "y_train = train[\"作者\"].replace(trans)\r\n",
        "y_test = test[\"作者\"].replace(trans)\r\n",
        "y_test"
      ],
      "execution_count": null,
      "outputs": []
    },
    {
      "cell_type": "code",
      "metadata": {
        "id": "VCCgDujyxlX9"
      },
      "source": [
        "import jieba\r\n",
        "p = train[\"內容\"][0]\r\n",
        "\" \".join(jieba.cut(p))\r\n",
        "# apply\r\n",
        "def poemcut(p):\r\n",
        "    return \" \".join(jieba.cut(p))\r\n",
        "x_train = train[\"內容\"].apply(poemcut)\r\n",
        "x_test = test[\"內容\"].apply(poemcut)\r\n",
        "x_test"
      ],
      "execution_count": null,
      "outputs": []
    },
    {
      "cell_type": "code",
      "metadata": {
        "id": "ODNuRPg86Kak"
      },
      "source": [
        "from sklearn.feature_extraction.text import CountVectorizer\r\n",
        "vec = CountVectorizer()\r\n",
        "x_train_count = vec.fit_transform(x_train)\r\n",
        "x_test_count = vec.transform(x_test)"
      ],
      "execution_count": null,
      "outputs": []
    },
    {
      "cell_type": "code",
      "metadata": {
        "id": "CDW25nrE6le-"
      },
      "source": [
        "# Sparse\r\n",
        "# fit: vocabulary_\r\n",
        "# check: 標點, 換行\r\n",
        "# vec.vocabulary_[\"。\"]\r\n",
        "# transform: count\r\n",
        "# print(x_train_count)\r\n",
        "x_test_count"
      ],
      "execution_count": null,
      "outputs": []
    },
    {
      "cell_type": "code",
      "metadata": {
        "id": "gOfI7_M5WAnA"
      },
      "source": [
        "from sklearn.naive_bayes import MultinomialNB\r\n",
        "clf = MultinomialNB(alpha=0.01)\r\n",
        "clf.fit(x_train_count, y_train)"
      ],
      "execution_count": null,
      "outputs": []
    },
    {
      "cell_type": "code",
      "metadata": {
        "id": "Btg-EWJgWPdM"
      },
      "source": [
        "from sklearn.metrics import accuracy_score\r\n",
        "pre = clf.predict(x_test_count)\r\n",
        "accuracy_score(pre, y_test)"
      ],
      "execution_count": null,
      "outputs": []
    },
    {
      "cell_type": "code",
      "metadata": {
        "id": "4wlu6NLveExc"
      },
      "source": [
        "import pandas as pd\r\n",
        "from sklearn.metrics import confusion_matrix\r\n",
        "mat = confusion_matrix(y_test, pre)\r\n",
        "pd.DataFrame(mat, \r\n",
        "      index=[w + \"(正確)\" for w in writers],\r\n",
        "      columns=[w + \"(預測)\" for w in writers])"
      ],
      "execution_count": null,
      "outputs": []
    },
    {
      "cell_type": "code",
      "metadata": {
        "id": "Dy5tlmCZggRv"
      },
      "source": [
        "p = input(\"寫首詩:\")\r\n",
        "p = [poemcut(p)]\r\n",
        "count = vec.transform(p)\r\n",
        "prob = clf.predict_proba(count)[0]\r\n",
        "for w, pr in zip(writers, prob):\r\n",
        "    print(w, round(pr, 4))\r\n",
        "ans = clf.predict(count)[0]\r\n",
        "print(\"最可能是:\", writers[ans])"
      ],
      "execution_count": null,
      "outputs": []
    }
  ]
}