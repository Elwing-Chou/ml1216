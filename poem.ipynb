{
  "nbformat": 4,
  "nbformat_minor": 0,
  "metadata": {
    "colab": {
      "name": "poem.ipynb",
      "private_outputs": true,
      "provenance": [],
      "authorship_tag": "ABX9TyPVXoZm6P5U3EM0wot7/PMV",
      "include_colab_link": true
    },
    "kernelspec": {
      "name": "python3",
      "display_name": "Python 3"
    }
  },
  "cells": [
    {
      "cell_type": "markdown",
      "metadata": {
        "id": "view-in-github",
        "colab_type": "text"
      },
      "source": [
        "<a href=\"https://colab.research.google.com/github/Elwing-Chou/ml1216/blob/main/poem.ipynb\" target=\"_parent\"><img src=\"https://colab.research.google.com/assets/colab-badge.svg\" alt=\"Open In Colab\"/></a>"
      ]
    },
    {
      "cell_type": "code",
      "metadata": {
        "id": "5UeFu4eGqpit"
      },
      "source": [
        "from urllib.request import urlretrieve\r\n",
        "url = \"https://github.com/Elwing-Chou/ml1216/raw/main/poem_train.csv\"\r\n",
        "urlretrieve(url, \"train.csv\")\r\n",
        "url = \"https://github.com/Elwing-Chou/ml1216/raw/main/poem_test.csv\"\r\n",
        "urlretrieve(url, \"test.csv\")"
      ],
      "execution_count": null,
      "outputs": []
    },
    {
      "cell_type": "code",
      "metadata": {
        "id": "OA8R6QDgsY-c"
      },
      "source": [
        "import pandas as pd\r\n",
        "train = pd.read_csv(\"train.csv\", encoding=\"utf-8\")\r\n",
        "test = pd.read_csv(\"test.csv\", encoding=\"utf-8\")\r\n",
        "train"
      ],
      "execution_count": null,
      "outputs": []
    },
    {
      "cell_type": "code",
      "metadata": {
        "id": "2c6Y8fbPtGSd"
      },
      "source": [
        "# Series: unique/value_counts\r\n",
        "writers = train[\"作者\"].unique()\r\n",
        "trans = {n:i for i, n in enumerate(writers)}\r\n",
        "trans_r = {i:n for i, n in enumerate(writers)}\r\n",
        "# Series: replace\r\n",
        "y_train = train[\"作者\"].replace(trans)\r\n",
        "y_test = test[\"作者\"].replace(trans)\r\n",
        "y_test"
      ],
      "execution_count": null,
      "outputs": []
    },
    {
      "cell_type": "code",
      "metadata": {
        "id": "VCCgDujyxlX9"
      },
      "source": [
        "import jieba\r\n",
        "p = train[\"內容\"][0]\r\n",
        "\" \".join(jieba.cut(p))\r\n",
        "# apply\r\n",
        "def poemcut(p):\r\n",
        "    return \" \".join(jieba.cut(p))\r\n",
        "x_train = train[\"內容\"].apply(poemcut)\r\n",
        "x_test = test[\"內容\"].apply(poemcut)\r\n",
        "x_test"
      ],
      "execution_count": null,
      "outputs": []
    }
  ]
}