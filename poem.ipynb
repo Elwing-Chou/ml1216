{
  "nbformat": 4,
  "nbformat_minor": 0,
  "metadata": {
    "colab": {
      "name": "poem.ipynb",
      "private_outputs": true,
      "provenance": [],
      "authorship_tag": "ABX9TyOBp8yX4c+f2prjWpB5Puy/",
      "include_colab_link": true
    },
    "kernelspec": {
      "name": "python3",
      "display_name": "Python 3"
    }
  },
  "cells": [
    {
      "cell_type": "markdown",
      "metadata": {
        "id": "view-in-github",
        "colab_type": "text"
      },
      "source": [
        "<a href=\"https://colab.research.google.com/github/Elwing-Chou/ml1216/blob/main/poem.ipynb\" target=\"_parent\"><img src=\"https://colab.research.google.com/assets/colab-badge.svg\" alt=\"Open In Colab\"/></a>"
      ]
    },
    {
      "cell_type": "code",
      "metadata": {
        "id": "5UeFu4eGqpit"
      },
      "source": [
        "from urllib.request import urlretrieve\r\n",
        "url = \"https://github.com/Elwing-Chou/ml1216/raw/main/poem_train.csv\"\r\n",
        "urlretrieve(url, \"train.csv\")\r\n",
        "url = \"https://github.com/Elwing-Chou/ml1216/raw/main/poem_test.csv\"\r\n",
        "urlretrieve(url, \"test.csv\")"
      ],
      "execution_count": null,
      "outputs": []
    }
  ]
}