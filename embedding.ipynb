{
  "nbformat": 4,
  "nbformat_minor": 0,
  "metadata": {
    "colab": {
      "name": "embedding.ipynb",
      "private_outputs": true,
      "provenance": [],
      "authorship_tag": "ABX9TyMSYIOa4xu2RNESQe1V2gnm",
      "include_colab_link": true
    },
    "kernelspec": {
      "name": "python3",
      "display_name": "Python 3"
    },
    "accelerator": "GPU"
  },
  "cells": [
    {
      "cell_type": "markdown",
      "metadata": {
        "id": "view-in-github",
        "colab_type": "text"
      },
      "source": [
        "<a href=\"https://colab.research.google.com/github/Elwing-Chou/ml1216/blob/main/embedding.ipynb\" target=\"_parent\"><img src=\"https://colab.research.google.com/assets/colab-badge.svg\" alt=\"Open In Colab\"/></a>"
      ]
    },
    {
      "cell_type": "code",
      "metadata": {
        "id": "OIoK0DwdhTzK"
      },
      "source": [
        "import tensorflow as tf\r\n",
        "\r\n",
        "dataset = tf.keras.utils.get_file(\r\n",
        "    fname=\"aclImdb.tar.gz\", \r\n",
        "    origin=\"http://ai.stanford.edu/~amaas/data/sentiment/aclImdb_v1.tar.gz\", \r\n",
        "    extract=True,\r\n",
        ")"
      ],
      "execution_count": null,
      "outputs": []
    },
    {
      "cell_type": "code",
      "metadata": {
        "id": "s3QU1Bgsoju9"
      },
      "source": [
        "import os\r\n",
        "import glob\r\n",
        "import pandas as pd\r\n",
        "\r\n",
        "base = os.path.dirname(dataset)\r\n",
        "def get_data(category):\r\n",
        "    contents, targets = [], []\r\n",
        "    dir = os.path.join(base, \"aclImdb\", category, \"pos\")\r\n",
        "    lfn = glob.glob(os.path.join(dir, \"*.txt\"))\r\n",
        "    ufn = glob.glob(os.path.join(dir, \"*.TXT\"))\r\n",
        "    for fn in lfn + ufn:\r\n",
        "        with open(fn, \"r\", encoding=\"utf-8\") as f:\r\n",
        "            contents.append(f.read())\r\n",
        "            targets.append(1)\r\n",
        "    dir = os.path.join(base, \"aclImdb\", category, \"neg\")\r\n",
        "    lfn = glob.glob(os.path.join(dir, \"*.txt\"))\r\n",
        "    ufn = glob.glob(os.path.join(dir, \"*.TXT\"))\r\n",
        "    for fn in lfn + ufn:\r\n",
        "        with open(fn, \"r\", encoding=\"utf-8\") as f:\r\n",
        "            contents.append(f.read())\r\n",
        "            targets.append(0)\r\n",
        "    df = pd.DataFrame({\r\n",
        "        \"content\":contents,\r\n",
        "        \"target\":targets\r\n",
        "    })\r\n",
        "    return df\r\n",
        "train_df = get_data(\"train\")\r\n",
        "test_df = get_data(\"test\")"
      ],
      "execution_count": null,
      "outputs": []
    },
    {
      "cell_type": "code",
      "metadata": {
        "id": "5cXvTqulqyUO"
      },
      "source": [
        "# tokenize\r\n",
        "from tensorflow.keras.preprocessing.text import Tokenizer\r\n",
        "tok = Tokenizer(num_words=3000)\r\n",
        "# fit\r\n",
        "tok.fit_on_texts(train_df[\"content\"])"
      ],
      "execution_count": null,
      "outputs": []
    },
    {
      "cell_type": "code",
      "metadata": {
        "id": "Cobv37psyEDw"
      },
      "source": [
        "# transform\r\n",
        "x_train_seq = tok.texts_to_sequences(train_df[\"content\"])\r\n",
        "x_test_seq = tok.texts_to_sequences(test_df[\"content\"])"
      ],
      "execution_count": null,
      "outputs": []
    },
    {
      "cell_type": "code",
      "metadata": {
        "id": "tYHzvZ0Eygwm"
      },
      "source": [
        "pd.DataFrame(x_train_seq)\r\n",
        "tok.index_word[3005]\r\n",
        "tok.word_index"
      ],
      "execution_count": null,
      "outputs": []
    },
    {
      "cell_type": "code",
      "metadata": {
        "id": "O6U14a6Y1xL3"
      },
      "source": [
        "from tensorflow.keras.preprocessing.sequence import pad_sequences\r\n",
        "x_train_pad = pad_sequences(x_train_seq, maxlen=512)\r\n",
        "x_test_pad = pad_sequences(x_test_seq, maxlen=512)"
      ],
      "execution_count": null,
      "outputs": []
    },
    {
      "cell_type": "code",
      "metadata": {
        "id": "Dd2BVcHE2HgF"
      },
      "source": [
        "pd.DataFrame(x_train_pad)"
      ],
      "execution_count": null,
      "outputs": []
    }
  ]
}