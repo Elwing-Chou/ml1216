{
  "nbformat": 4,
  "nbformat_minor": 0,
  "metadata": {
    "colab": {
      "name": "embedding.ipynb",
      "private_outputs": true,
      "provenance": [],
      "authorship_tag": "ABX9TyNpppz1Yo2vPiMdHEIzBiG8",
      "include_colab_link": true
    },
    "kernelspec": {
      "name": "python3",
      "display_name": "Python 3"
    },
    "accelerator": "GPU"
  },
  "cells": [
    {
      "cell_type": "markdown",
      "metadata": {
        "id": "view-in-github",
        "colab_type": "text"
      },
      "source": [
        "<a href=\"https://colab.research.google.com/github/Elwing-Chou/ml1216/blob/main/embedding.ipynb\" target=\"_parent\"><img src=\"https://colab.research.google.com/assets/colab-badge.svg\" alt=\"Open In Colab\"/></a>"
      ]
    },
    {
      "cell_type": "code",
      "metadata": {
        "id": "OIoK0DwdhTzK"
      },
      "source": [
        "import tensorflow as tf\r\n",
        "\r\n",
        "dataset = tf.keras.utils.get_file(\r\n",
        "    fname=\"aclImdb.tar.gz\", \r\n",
        "    origin=\"http://ai.stanford.edu/~amaas/data/sentiment/aclImdb_v1.tar.gz\", \r\n",
        "    extract=True,\r\n",
        ")"
      ],
      "execution_count": null,
      "outputs": []
    },
    {
      "cell_type": "code",
      "metadata": {
        "id": "s3QU1Bgsoju9"
      },
      "source": [
        "import os\r\n",
        "import glob\r\n",
        "import pandas as pd\r\n",
        "\r\n",
        "base = os.path.dirname(dataset)\r\n",
        "def get_data(category):\r\n",
        "    contents, targets = [], []\r\n",
        "    dir = os.path.join(base, \"aclImdb\", category, \"pos\")\r\n",
        "    lfn = glob.glob(os.path.join(dir, \"*.txt\"))\r\n",
        "    ufn = glob.glob(os.path.join(dir, \"*.TXT\"))\r\n",
        "    for fn in lfn + ufn:\r\n",
        "        with open(fn, \"r\", encoding=\"utf-8\") as f:\r\n",
        "            contents.append(f.read())\r\n",
        "            targets.append(1)\r\n",
        "    dir = os.path.join(base, \"aclImdb\", category, \"neg\")\r\n",
        "    lfn = glob.glob(os.path.join(dir, \"*.txt\"))\r\n",
        "    ufn = glob.glob(os.path.join(dir, \"*.TXT\"))\r\n",
        "    for fn in lfn + ufn:\r\n",
        "        with open(fn, \"r\", encoding=\"utf-8\") as f:\r\n",
        "            contents.append(f.read())\r\n",
        "            targets.append(0)\r\n",
        "    df = pd.DataFrame({\r\n",
        "        \"content\":contents,\r\n",
        "        \"target\":targets\r\n",
        "    })\r\n",
        "    return df\r\n",
        "train_df = get_data(\"train\")\r\n",
        "test_df = get_data(\"test\")"
      ],
      "execution_count": null,
      "outputs": []
    },
    {
      "cell_type": "code",
      "metadata": {
        "id": "5cXvTqulqyUO"
      },
      "source": [
        "test_df"
      ],
      "execution_count": null,
      "outputs": []
    }
  ]
}