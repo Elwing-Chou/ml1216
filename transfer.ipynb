{
  "nbformat": 4,
  "nbformat_minor": 0,
  "metadata": {
    "colab": {
      "name": "transfer.ipynb",
      "private_outputs": true,
      "provenance": [],
      "mount_file_id": "1qvC97ANhFZ9lBF6QA0qXV-u9UpXmOdGc",
      "authorship_tag": "ABX9TyMhx7jOtITF8vCH2v3bY+xl",
      "include_colab_link": true
    },
    "kernelspec": {
      "name": "python3",
      "display_name": "Python 3"
    },
    "accelerator": "GPU"
  },
  "cells": [
    {
      "cell_type": "markdown",
      "metadata": {
        "id": "view-in-github",
        "colab_type": "text"
      },
      "source": [
        "<a href=\"https://colab.research.google.com/github/Elwing-Chou/ml1216/blob/main/transfer.ipynb\" target=\"_parent\"><img src=\"https://colab.research.google.com/assets/colab-badge.svg\" alt=\"Open In Colab\"/></a>"
      ]
    },
    {
      "cell_type": "code",
      "metadata": {
        "id": "WSfIskp7NwDb"
      },
      "source": [
        "import zipfile\r\n",
        "path = \"/content/drive/MyDrive/additional/train.zip\"\r\n",
        "f = zipfile.ZipFile(path)\r\n",
        "f.extractall()"
      ],
      "execution_count": null,
      "outputs": []
    },
    {
      "cell_type": "code",
      "metadata": {
        "id": "kRS6P1_NO3x3"
      },
      "source": [
        "import glob\r\n",
        "import pandas as pd\r\n",
        "dogs = glob.glob(\"train/dog.*.jpg\")\r\n",
        "cats = glob.glob(\"train/cat.*.jpg\")\r\n",
        "df = pd.DataFrame({\r\n",
        "    \"path\":dogs+cats,\r\n",
        "    \"target\":[0]*len(dogs)+[1]*len(cats) \r\n",
        "})\r\n",
        "df"
      ],
      "execution_count": null,
      "outputs": []
    },
    {
      "cell_type": "code",
      "metadata": {
        "id": "UbttFy7YP_2Z"
      },
      "source": [
        "import random\r\n",
        "import matplotlib.pyplot as plt\r\n",
        "from tensorflow.keras.preprocessing.image import load_img\r\n",
        "idx = random.randint(0, len(df)-1)\r\n",
        "img = load_img(df[\"path\"][idx], target_size=(224, 224))\r\n",
        "plt.imshow(img)"
      ],
      "execution_count": null,
      "outputs": []
    }
  ]
}