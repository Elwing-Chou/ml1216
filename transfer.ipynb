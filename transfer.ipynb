{
  "nbformat": 4,
  "nbformat_minor": 0,
  "metadata": {
    "colab": {
      "name": "transfer.ipynb",
      "private_outputs": true,
      "provenance": [],
      "mount_file_id": "1qvC97ANhFZ9lBF6QA0qXV-u9UpXmOdGc",
      "authorship_tag": "ABX9TyPMDh4c92A8eLM3KUs77qUk",
      "include_colab_link": true
    },
    "kernelspec": {
      "name": "python3",
      "display_name": "Python 3"
    },
    "accelerator": "GPU"
  },
  "cells": [
    {
      "cell_type": "markdown",
      "metadata": {
        "id": "view-in-github",
        "colab_type": "text"
      },
      "source": [
        "<a href=\"https://colab.research.google.com/github/Elwing-Chou/ml1216/blob/main/transfer.ipynb\" target=\"_parent\"><img src=\"https://colab.research.google.com/assets/colab-badge.svg\" alt=\"Open In Colab\"/></a>"
      ]
    },
    {
      "cell_type": "code",
      "metadata": {
        "id": "WSfIskp7NwDb"
      },
      "source": [
        "import zipfile\r\n",
        "path = \"/content/drive/MyDrive/additional/train.zip\"\r\n",
        "f = zipfile.ZipFile(path)\r\n",
        "f.extractall()"
      ],
      "execution_count": null,
      "outputs": []
    },
    {
      "cell_type": "code",
      "metadata": {
        "id": "kRS6P1_NO3x3"
      },
      "source": [
        "import glob\r\n",
        "import pandas as pd\r\n",
        "dogs = glob.glob(\"train/dog.*.jpg\")\r\n",
        "cats = glob.glob(\"train/cat.*.jpg\")\r\n",
        "df = pd.DataFrame({\r\n",
        "    \"path\":dogs+cats,\r\n",
        "    \"target\":[0]*len(dogs)+[1]*len(cats) \r\n",
        "})\r\n",
        "df"
      ],
      "execution_count": null,
      "outputs": []
    },
    {
      "cell_type": "code",
      "metadata": {
        "id": "UbttFy7YP_2Z"
      },
      "source": [
        "import random\r\n",
        "import matplotlib.pyplot as plt\r\n",
        "from tensorflow.keras.preprocessing.image import load_img\r\n",
        "idx = random.randint(0, len(df)-1)\r\n",
        "img = load_img(df[\"path\"][idx], target_size=(224, 224))\r\n",
        "plt.imshow(img)"
      ],
      "execution_count": null,
      "outputs": []
    },
    {
      "cell_type": "code",
      "metadata": {
        "id": "j1gqgQ38SdsH"
      },
      "source": [
        "from tensorflow.keras.applications.vgg16 import VGG16\r\n",
        "vgg = VGG16(include_top=False, input_shape=(224, 224, 3))\r\n",
        "vgg.summary()"
      ],
      "execution_count": null,
      "outputs": []
    },
    {
      "cell_type": "code",
      "metadata": {
        "id": "LJT8QZwbVkx1"
      },
      "source": [
        "from tensorflow.keras.models import Sequential\r\n",
        "from tensorflow.keras.layers import Flatten, Dropout, Dense, GlobalAveragePooling2D\r\n",
        "from tensorflow.keras.layers import BatchNormalization\r\n",
        "# compile前就要做: layer.trainable = False\r\n",
        "for l in vgg.layers:\r\n",
        "    l.trainable = False\r\n",
        "layers = [\r\n",
        "    # 一張圖(4[原本平均, 原本標準差, 新平均, 新標準差]) * 512\r\n",
        "    # 1024: trainable 1024: non-trainable\r\n",
        "    BatchNormalization(),\r\n",
        "    Flatten(),\r\n",
        "    Dense(128, activation=\"relu\"),\r\n",
        "    Dropout(0.25),\r\n",
        "    Dense(2, activation=\"softmax\")\r\n",
        "]\r\n",
        "layers = vgg.layers + layers\r\n",
        "model = Sequential(layers)\r\n",
        "model.summary()"
      ],
      "execution_count": null,
      "outputs": []
    },
    {
      "cell_type": "code",
      "metadata": {
        "id": "hfSI7mBbbB93"
      },
      "source": [
        "from tensorflow.keras.losses import SparseCategoricalCrossentropy\r\n",
        "model.compile(loss=SparseCategoricalCrossentropy(),\r\n",
        "       optimizer=\"adam\",\r\n",
        "       metrics=[\"accuracy\"])"
      ],
      "execution_count": null,
      "outputs": []
    },
    {
      "cell_type": "code",
      "metadata": {
        "id": "u1UJJW4Pbj5T"
      },
      "source": [
        "import numpy as np\r\n",
        "from sklearn.model_selection import train_test_split\r\n",
        "x, y = np.array(df[\"path\"]), np.array(df[\"target\"])\r\n",
        "x_train, x_test, y_train, y_test = train_test_split(x, y, test_size=0.1)"
      ],
      "execution_count": null,
      "outputs": []
    },
    {
      "cell_type": "code",
      "metadata": {
        "id": "hsE1VGy3gXdG"
      },
      "source": [
        "# https://github.com/keras-team/keras-applications/blob/master/keras_applications/imagenet_utils.py\r\n",
        "# https://github.com/keras-team/keras-applications/tree/master/keras_applications\r\n",
        "from tensorflow.keras.applications.vgg16 import preprocess_input\r\n",
        "\r\n",
        "def get_data(x, y, batch=20):\r\n",
        "    idx = np.random.randint(0, len(x), size=batch)\r\n",
        "    imgs, imgs_pre, ans = [], [], y[idx]\r\n",
        "    for p in x[idx]:\r\n",
        "        img = load_img(p, target_size=(224, 224))\r\n",
        "        img = np.array(img)\r\n",
        "        imgs.append(img)\r\n",
        "        imgs_pre.append(preprocess_input(img))\r\n",
        "    imgs, imgs_pre, ans = np.array(imgs), np.array(imgs_pre), np.array(ans)\r\n",
        "    return (imgs, imgs_pre, ans)\r\n",
        "a, b, c = get_data(x, y)\r\n",
        "print(a.shape, b.shape, c.shape)"
      ],
      "execution_count": null,
      "outputs": []
    },
    {
      "cell_type": "code",
      "metadata": {
        "id": "K_bwskRjk0hr"
      },
      "source": [
        "for i in range(100):\r\n",
        "    print(\"-\" * 15, i, \"-\" * 15)\r\n",
        "    img, imgp, ans = get_data(x_train, y_train, batch=20)\r\n",
        "    result = model.train_on_batch(imgp, ans)\r\n",
        "    print(\"[Train]:\", result)\r\n",
        "    img, imgp, ans = get_data(x_test, y_test, batch=100)\r\n",
        "    result = model.test_on_batch(imgp, ans)\r\n",
        "    print(\"[Validate]:\", result)"
      ],
      "execution_count": null,
      "outputs": []
    },
    {
      "cell_type": "code",
      "metadata": {
        "id": "aMcC8G8Wn79V"
      },
      "source": [
        "img, imgp, ans = get_data(x_test, y_test, batch=500)\r\n",
        "model.evaluate(imgp, ans)"
      ],
      "execution_count": null,
      "outputs": []
    },
    {
      "cell_type": "code",
      "metadata": {
        "id": "0Xw8Ww3BnVs2"
      },
      "source": [
        "model.predict(imgp)"
      ],
      "execution_count": null,
      "outputs": []
    },
    {
      "cell_type": "code",
      "metadata": {
        "id": "1QBYm652bV5Z"
      },
      "source": [
        "pre = model.predict_classes(imgp)\r\n",
        "pre"
      ],
      "execution_count": null,
      "outputs": []
    },
    {
      "cell_type": "code",
      "metadata": {
        "id": "6tLRTyuGa0nA"
      },
      "source": [
        "import numpy as np\r\n",
        "# !!\r\n",
        "y_test = ans\r\n",
        "labels = [\"Dog\", \"Cat\"]\r\n",
        "x_test = img\r\n",
        "\r\n",
        "idx = np.nonzero(pre != y_test)[0]\r\n",
        "idx = idx[:200]\r\n",
        "false_pre = pre[idx]\r\n",
        "false_ori = y_test[idx]\r\n",
        "false_img = x_test[idx]\r\n",
        "\r\n",
        "plt.figure(figsize=(14, 8))\r\n",
        "width = 10\r\n",
        "height = len(idx) // width + 1\r\n",
        "for i in range(len(idx)):\r\n",
        "    plt.subplot(height, width, i+1)\r\n",
        "    t = \"[O]:{}\\n[P]:{}\".format(labels[false_ori[i]], labels[false_pre[i]])\r\n",
        "    plt.title(t)\r\n",
        "    plt.axis(\"off\")\r\n",
        "    plt.imshow(false_img[i])"
      ],
      "execution_count": null,
      "outputs": []
    }
  ]
}