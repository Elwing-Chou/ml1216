{
  "nbformat": 4,
  "nbformat_minor": 0,
  "metadata": {
    "colab": {
      "name": "transfer.ipynb",
      "private_outputs": true,
      "provenance": [],
      "mount_file_id": "1qvC97ANhFZ9lBF6QA0qXV-u9UpXmOdGc",
      "authorship_tag": "ABX9TyPfAKlQ986ZZz76KICJcA55",
      "include_colab_link": true
    },
    "kernelspec": {
      "name": "python3",
      "display_name": "Python 3"
    },
    "accelerator": "GPU"
  },
  "cells": [
    {
      "cell_type": "markdown",
      "metadata": {
        "id": "view-in-github",
        "colab_type": "text"
      },
      "source": [
        "<a href=\"https://colab.research.google.com/github/Elwing-Chou/ml1216/blob/main/transfer.ipynb\" target=\"_parent\"><img src=\"https://colab.research.google.com/assets/colab-badge.svg\" alt=\"Open In Colab\"/></a>"
      ]
    },
    {
      "cell_type": "code",
      "metadata": {
        "id": "WSfIskp7NwDb"
      },
      "source": [
        "import zipfile\r\n",
        "path = \"/content/drive/MyDrive/additional/train.zip\"\r\n",
        "f = zipfile.ZipFile(path)\r\n",
        "f.extractall()"
      ],
      "execution_count": null,
      "outputs": []
    }
  ]
}