{
  "nbformat": 4,
  "nbformat_minor": 0,
  "metadata": {
    "colab": {
      "name": "embedding_gap.ipynb",
      "private_outputs": true,
      "provenance": [],
      "authorship_tag": "ABX9TyNQFRIt2/zksKrO1ALn+UGR",
      "include_colab_link": true
    },
    "kernelspec": {
      "name": "python3",
      "display_name": "Python 3"
    },
    "accelerator": "GPU"
  },
  "cells": [
    {
      "cell_type": "markdown",
      "metadata": {
        "id": "view-in-github",
        "colab_type": "text"
      },
      "source": [
        "<a href=\"https://colab.research.google.com/github/Elwing-Chou/ml1216/blob/main/embedding_gap.ipynb\" target=\"_parent\"><img src=\"https://colab.research.google.com/assets/colab-badge.svg\" alt=\"Open In Colab\"/></a>"
      ]
    },
    {
      "cell_type": "code",
      "metadata": {
        "id": "OIoK0DwdhTzK"
      },
      "source": [
        "import tensorflow as tf\r\n",
        "\r\n",
        "dataset = tf.keras.utils.get_file(\r\n",
        "    fname=\"aclImdb.tar.gz\", \r\n",
        "    origin=\"http://ai.stanford.edu/~amaas/data/sentiment/aclImdb_v1.tar.gz\", \r\n",
        "    extract=True,\r\n",
        ")"
      ],
      "execution_count": null,
      "outputs": []
    },
    {
      "cell_type": "code",
      "metadata": {
        "id": "s3QU1Bgsoju9"
      },
      "source": [
        "import os\r\n",
        "import glob\r\n",
        "import pandas as pd\r\n",
        "\r\n",
        "base = os.path.dirname(dataset)\r\n",
        "def get_data(category):\r\n",
        "    contents, targets = [], []\r\n",
        "    dir = os.path.join(base, \"aclImdb\", category, \"pos\")\r\n",
        "    lfn = glob.glob(os.path.join(dir, \"*.txt\"))\r\n",
        "    ufn = glob.glob(os.path.join(dir, \"*.TXT\"))\r\n",
        "    for fn in lfn + ufn:\r\n",
        "        with open(fn, \"r\", encoding=\"utf-8\") as f:\r\n",
        "            contents.append(f.read())\r\n",
        "            targets.append(1)\r\n",
        "    dir = os.path.join(base, \"aclImdb\", category, \"neg\")\r\n",
        "    lfn = glob.glob(os.path.join(dir, \"*.txt\"))\r\n",
        "    ufn = glob.glob(os.path.join(dir, \"*.TXT\"))\r\n",
        "    for fn in lfn + ufn:\r\n",
        "        with open(fn, \"r\", encoding=\"utf-8\") as f:\r\n",
        "            contents.append(f.read())\r\n",
        "            targets.append(0)\r\n",
        "    df = pd.DataFrame({\r\n",
        "        \"content\":contents,\r\n",
        "        \"target\":targets\r\n",
        "    })\r\n",
        "    return df\r\n",
        "train_df = get_data(\"train\")\r\n",
        "test_df = get_data(\"test\")"
      ],
      "execution_count": null,
      "outputs": []
    },
    {
      "cell_type": "code",
      "metadata": {
        "id": "5cXvTqulqyUO"
      },
      "source": [
        "# tokenize\r\n",
        "from tensorflow.keras.preprocessing.text import Tokenizer\r\n",
        "tok = Tokenizer(num_words=3000)\r\n",
        "# fit\r\n",
        "tok.fit_on_texts(train_df[\"content\"])"
      ],
      "execution_count": null,
      "outputs": []
    },
    {
      "cell_type": "code",
      "metadata": {
        "id": "Cobv37psyEDw"
      },
      "source": [
        "# transform\r\n",
        "x_train_seq = tok.texts_to_sequences(train_df[\"content\"])\r\n",
        "x_test_seq = tok.texts_to_sequences(test_df[\"content\"])"
      ],
      "execution_count": null,
      "outputs": []
    },
    {
      "cell_type": "code",
      "metadata": {
        "id": "tYHzvZ0Eygwm"
      },
      "source": [
        "pd.DataFrame(x_train_seq)\r\n",
        "tok.index_word[3005]\r\n",
        "tok.word_index"
      ],
      "execution_count": null,
      "outputs": []
    },
    {
      "cell_type": "code",
      "metadata": {
        "id": "O6U14a6Y1xL3"
      },
      "source": [
        "from tensorflow.keras.preprocessing.sequence import pad_sequences\r\n",
        "x_train_pad = pad_sequences(x_train_seq, maxlen=512)\r\n",
        "x_test_pad = pad_sequences(x_test_seq, maxlen=512)"
      ],
      "execution_count": null,
      "outputs": []
    },
    {
      "cell_type": "code",
      "metadata": {
        "id": "Dd2BVcHE2HgF"
      },
      "source": [
        "pd.DataFrame(x_train_pad)"
      ],
      "execution_count": null,
      "outputs": []
    },
    {
      "cell_type": "code",
      "metadata": {
        "id": "fN9XNA5YOrch"
      },
      "source": [
        "from tensorflow.keras.models import Sequential\r\n",
        "from tensorflow.keras.layers import Embedding\r\n",
        "from tensorflow.keras.layers import Dense, Dropout, Flatten, GlobalAveragePooling1D\r\n",
        "layers = [\r\n",
        "    # 3001 * 128\r\n",
        "    Embedding(3001, 128, mask_zero=True, input_length=512),\r\n",
        "    GlobalAveragePooling1D(),\r\n",
        "    Dense(2, activation=\"softmax\")\r\n",
        "\r\n",
        "]\r\n",
        "model = Sequential(layers)\r\n",
        "model.summary()"
      ],
      "execution_count": null,
      "outputs": []
    },
    {
      "cell_type": "code",
      "metadata": {
        "id": "g1YowFtWO00M"
      },
      "source": [
        "from tensorflow.keras.losses import SparseCategoricalCrossentropy\r\n",
        "model.compile(loss=SparseCategoricalCrossentropy(),\r\n",
        "       optimizer=\"adam\",\r\n",
        "       metrics=[\"accuracy\"])"
      ],
      "execution_count": null,
      "outputs": []
    },
    {
      "cell_type": "code",
      "metadata": {
        "id": "zGQQfN0PRU5E"
      },
      "source": [
        "y_train = train_df[\"target\"]\r\n",
        "y_test = test_df[\"target\"]"
      ],
      "execution_count": null,
      "outputs": []
    },
    {
      "cell_type": "code",
      "metadata": {
        "id": "pJ9myQqMROJe"
      },
      "source": [
        "from tensorflow.keras.callbacks import ModelCheckpoint, EarlyStopping\r\n",
        "callbacks = [\r\n",
        "    EarlyStopping(patience=5, restore_best_weights=True),\r\n",
        "    ModelCheckpoint(\"model.h5\", save_best_only=True)\r\n",
        "]\r\n",
        "# validation_split: 切出一部分資料驗證\r\n",
        "# batch_size: 看多少筆才做一次調整(梯度下降)\r\n",
        "# epochs: 訓練次數(60000-6000筆/epoch)\r\n",
        "# 1 epoch 多少次梯度下降: 54000 / 200 -> 270\r\n",
        "# verbose: 印出多少log(1:default 0:quiet 2:)\r\n",
        "model.fit(x_train_pad, \r\n",
        "     y_train,\r\n",
        "     validation_split=0.1,\r\n",
        "     batch_size=200,\r\n",
        "     epochs=50,\r\n",
        "     verbose=2,\r\n",
        "     callbacks=callbacks)"
      ],
      "execution_count": null,
      "outputs": []
    },
    {
      "cell_type": "code",
      "metadata": {
        "id": "I8vJvGeYRs_9"
      },
      "source": [
        "model.evaluate(x_test_pad, y_test)"
      ],
      "execution_count": null,
      "outputs": []
    }
  ]
}