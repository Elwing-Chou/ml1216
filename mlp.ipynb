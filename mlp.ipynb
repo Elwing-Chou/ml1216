{
  "nbformat": 4,
  "nbformat_minor": 0,
  "metadata": {
    "colab": {
      "name": "mlp.ipynb",
      "private_outputs": true,
      "provenance": [],
      "authorship_tag": "ABX9TyPpGd94fe0tExL9QhZSh1Sg",
      "include_colab_link": true
    },
    "kernelspec": {
      "name": "python3",
      "display_name": "Python 3"
    },
    "accelerator": "GPU"
  },
  "cells": [
    {
      "cell_type": "markdown",
      "metadata": {
        "id": "view-in-github",
        "colab_type": "text"
      },
      "source": [
        "<a href=\"https://colab.research.google.com/github/Elwing-Chou/ml1216/blob/main/mlp.ipynb\" target=\"_parent\"><img src=\"https://colab.research.google.com/assets/colab-badge.svg\" alt=\"Open In Colab\"/></a>"
      ]
    },
    {
      "cell_type": "code",
      "metadata": {
        "id": "27bMACun5GZI"
      },
      "source": [
        "from tensorflow.keras.datasets.mnist import load_data\r\n",
        "# ((訓練圖片 訓練答案), (測試圖片 測試答案))\r\n",
        "(x_train, y_train), (x_test, y_test) = load_data()"
      ],
      "execution_count": null,
      "outputs": []
    },
    {
      "cell_type": "code",
      "metadata": {
        "id": "7PdbNJQO6x6I"
      },
      "source": [
        "print(x_train.shape)\r\n",
        "print(y_train.shape)\r\n",
        "print(x_test.shape)\r\n",
        "print(y_test.shape)"
      ],
      "execution_count": null,
      "outputs": []
    },
    {
      "cell_type": "code",
      "metadata": {
        "id": "G80t8GFp7I9i"
      },
      "source": [
        "import pandas as pd\r\n",
        "print(y_train[0])\r\n",
        "pd.DataFrame(x_train[0])"
      ],
      "execution_count": null,
      "outputs": []
    },
    {
      "cell_type": "code",
      "metadata": {
        "id": "hZ8Sg6Qm7iLL"
      },
      "source": [
        "# https://matplotlib.org/3.1.0/tutorials/colors/colormaps.html\r\n",
        "import matplotlib.pyplot as plt\r\n",
        "plt.imshow(x_train[0], cmap=\"gray\")"
      ],
      "execution_count": null,
      "outputs": []
    },
    {
      "cell_type": "code",
      "metadata": {
        "id": "QMiX5Caz_ypO"
      },
      "source": [
        "from tensorflow.keras.models import Sequential\r\n",
        "from tensorflow.keras.layers import Dense\r\n",
        "layers = [\r\n",
        "    # 784 * 128 + 128(bias)\r\n",
        "    Dense(128, activation=\"relu\", input_dim=784),\r\n",
        "    # 128 * 10 + 10(bias)\r\n",
        "    Dense(10, activation=\"softmax\")\r\n",
        "]\r\n",
        "model = Sequential(layers)\r\n",
        "model.summary()"
      ],
      "execution_count": null,
      "outputs": []
    },
    {
      "cell_type": "code",
      "metadata": {
        "id": "peEfKoe5R34Z"
      },
      "source": [
        "# 輸出一個: binary crossentropy\r\n",
        "# 輸出多個: categorical crossentropy\r\n",
        "from tensorflow.keras.losses import CategoricalCrossentropy\r\n",
        "model.compile(loss=CategoricalCrossentropy(),\r\n",
        "       metrics=[\"accuracy\"])"
      ],
      "execution_count": null,
      "outputs": []
    },
    {
      "cell_type": "code",
      "metadata": {
        "id": "A76YjbzUc78h"
      },
      "source": [
        "# 預處理\r\n",
        "# x: 1.reshape 2.scaling\r\n",
        "# y: one-hot\r\n",
        "from tensorflow.keras.utils import to_categorical\r\n",
        "x_train_r = x_train.reshape(-1, 784) / 255\r\n",
        "x_test_r = x_test.reshape(-1, 784) / 255\r\n",
        "y_train_cat = to_categorical(y_train, num_classes=10)\r\n",
        "y_test_cat = to_categorical(y_test, num_classes=10)\r\n",
        "print(x_train_r.shape)\r\n",
        "print(y_train_cat[0])\r\n",
        "print(y_train[0])"
      ],
      "execution_count": null,
      "outputs": []
    }
  ]
}