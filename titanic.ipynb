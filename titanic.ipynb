{
  "nbformat": 4,
  "nbformat_minor": 0,
  "metadata": {
    "colab": {
      "name": "titanic.ipynb",
      "private_outputs": true,
      "provenance": [],
      "authorship_tag": "ABX9TyPxJfR6u2DAEScZYsuXdfpt",
      "include_colab_link": true
    },
    "kernelspec": {
      "name": "python3",
      "display_name": "Python 3"
    }
  },
  "cells": [
    {
      "cell_type": "markdown",
      "metadata": {
        "id": "view-in-github",
        "colab_type": "text"
      },
      "source": [
        "<a href=\"https://colab.research.google.com/github/Elwing-Chou/ml1216/blob/main/titanic.ipynb\" target=\"_parent\"><img src=\"https://colab.research.google.com/assets/colab-badge.svg\" alt=\"Open In Colab\"/></a>"
      ]
    },
    {
      "cell_type": "code",
      "metadata": {
        "id": "4bIqq4tJaxxO"
      },
      "source": [
        "from urllib.request import urlretrieve\r\n",
        "url = \"https://github.com/Elwing-Chou/ml1216/raw/main/train.csv\"\r\n",
        "urlretrieve(url, \"train.csv\")\r\n",
        "url = \"https://github.com/Elwing-Chou/ml1216/raw/main/test.csv\"\r\n",
        "urlretrieve(url, \"test.csv\")"
      ],
      "execution_count": null,
      "outputs": []
    },
    {
      "cell_type": "code",
      "metadata": {
        "id": "l2Rrf8ndbppI"
      },
      "source": [
        "import pandas as pd\r\n",
        "train = pd.read_csv(\"train.csv\", encoding=\"utf-8\")\r\n",
        "test = pd.read_csv(\"test.csv\", encoding=\"utf-8\")"
      ],
      "execution_count": null,
      "outputs": []
    },
    {
      "cell_type": "code",
      "metadata": {
        "id": "6Zdn2BDimD4_"
      },
      "source": [
        "datas = pd.concat([train, test], axis=0, ignore_index=True)\r\n",
        "datas = datas.drop([\"PassengerId\", \"Survived\"], axis=1)\r\n",
        "datas"
      ],
      "execution_count": null,
      "outputs": []
    },
    {
      "cell_type": "code",
      "metadata": {
        "id": "YjVBYSWYnUxE"
      },
      "source": [
        "s = datas.isna().sum()\r\n",
        "# series[跟資料筆數依樣多的true/false]\r\n",
        "s[s > 0].sort_values(ascending=False)"
      ],
      "execution_count": null,
      "outputs": []
    },
    {
      "cell_type": "code",
      "metadata": {
        "id": "-pbbBuuaprTl"
      },
      "source": [
        "count = datas[\"Ticket\"].value_counts() \r\n",
        "def share(tn):\r\n",
        "    return count[tn]\r\n",
        "datas[\"Ticket\"] = datas[\"Ticket\"].apply(share)"
      ],
      "execution_count": null,
      "outputs": []
    },
    {
      "cell_type": "code",
      "metadata": {
        "id": "sxPmqpjSnHgG"
      },
      "source": [
        "med = datas.median().drop(\"Pclass\")\r\n",
        "med"
      ],
      "execution_count": null,
      "outputs": []
    },
    {
      "cell_type": "code",
      "metadata": {
        "id": "Q2TJEy55qWoB"
      },
      "source": [
        "datas = datas.fillna(med)"
      ],
      "execution_count": null,
      "outputs": []
    },
    {
      "cell_type": "code",
      "metadata": {
        "id": "j1qHBlSLuNTD"
      },
      "source": [
        "most = datas[\"Embarked\"].value_counts().idxmax()\r\n",
        "datas[\"Embarked\"] = datas[\"Embarked\"].fillna(most)"
      ],
      "execution_count": null,
      "outputs": []
    },
    {
      "cell_type": "code",
      "metadata": {
        "id": "SNJI32dtvORV"
      },
      "source": [
        "def cabin(c):\r\n",
        "    if pd.isna(c):\r\n",
        "        return None\r\n",
        "    else:\r\n",
        "        return c[0]\r\n",
        "datas[\"Cabin\"] = datas[\"Cabin\"].apply(cabin)"
      ],
      "execution_count": null,
      "outputs": []
    },
    {
      "cell_type": "code",
      "metadata": {
        "id": "TDqeIOK-vyVM"
      },
      "source": [
        "def name(n):\r\n",
        "    n = n.split(\",\")[-1].split(\".\")[0]\r\n",
        "    return n.strip()\r\n",
        "count = datas[\"Name\"].apply(name).value_counts()\r\n",
        "# ['Mr', 'Miss', 'Mrs', 'Master']\r\n",
        "reserved = count[:4].index\r\n",
        "def name(n):\r\n",
        "    n = n.split(\",\")[-1].split(\".\")[0]\r\n",
        "    n = n.strip()\r\n",
        "    if n in reserved:\r\n",
        "        return n\r\n",
        "    else:\r\n",
        "        return None\r\n",
        "datas[\"Name\"] = datas[\"Name\"].apply(name)"
      ],
      "execution_count": null,
      "outputs": []
    }
  ]
}