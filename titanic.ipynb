{
  "nbformat": 4,
  "nbformat_minor": 0,
  "metadata": {
    "colab": {
      "name": "titanic.ipynb",
      "private_outputs": true,
      "provenance": [],
      "authorship_tag": "ABX9TyP9iTop/emBXoSuk8pxCVJ8",
      "include_colab_link": true
    },
    "kernelspec": {
      "name": "python3",
      "display_name": "Python 3"
    }
  },
  "cells": [
    {
      "cell_type": "markdown",
      "metadata": {
        "id": "view-in-github",
        "colab_type": "text"
      },
      "source": [
        "<a href=\"https://colab.research.google.com/github/Elwing-Chou/ml1216/blob/main/titanic.ipynb\" target=\"_parent\"><img src=\"https://colab.research.google.com/assets/colab-badge.svg\" alt=\"Open In Colab\"/></a>"
      ]
    },
    {
      "cell_type": "code",
      "metadata": {
        "id": "4bIqq4tJaxxO"
      },
      "source": [
        "from urllib.request import urlretrieve\r\n",
        "url = \"https://github.com/Elwing-Chou/ml1216/raw/main/train.csv\"\r\n",
        "urlretrieve(url, \"train.csv\")\r\n",
        "url = \"https://github.com/Elwing-Chou/ml1216/raw/main/test.csv\"\r\n",
        "urlretrieve(url, \"test.csv\")"
      ],
      "execution_count": null,
      "outputs": []
    },
    {
      "cell_type": "code",
      "metadata": {
        "id": "l2Rrf8ndbppI"
      },
      "source": [
        "import pandas as pd\r\n",
        "train = pd.read_csv(\"train.csv\", encoding=\"utf-8\")\r\n",
        "test = pd.read_csv(\"test.csv\", encoding=\"utf-8\")"
      ],
      "execution_count": null,
      "outputs": []
    },
    {
      "cell_type": "code",
      "metadata": {
        "id": "6Zdn2BDimD4_"
      },
      "source": [
        "datas = pd.concat([train, test], axis=0, ignore_index=True)\r\n",
        "datas = datas.drop([\"PassengerId\", \"Survived\"], axis=1)\r\n",
        "datas"
      ],
      "execution_count": null,
      "outputs": []
    },
    {
      "cell_type": "code",
      "metadata": {
        "id": "YjVBYSWYnUxE"
      },
      "source": [
        "s = datas.isna().sum()\r\n",
        "# series[跟資料筆數依樣多的true/false]\r\n",
        "s[s > 0].sort_values(ascending=False)"
      ],
      "execution_count": null,
      "outputs": []
    },
    {
      "cell_type": "code",
      "metadata": {
        "id": "-pbbBuuaprTl"
      },
      "source": [
        "count = datas[\"Ticket\"].value_counts() \r\n",
        "def share(tn):\r\n",
        "    return count[tn]\r\n",
        "datas[\"Ticket\"] = datas[\"Ticket\"].apply(share)"
      ],
      "execution_count": null,
      "outputs": []
    },
    {
      "cell_type": "code",
      "metadata": {
        "id": "sxPmqpjSnHgG"
      },
      "source": [
        "med = datas.median().drop(\"Pclass\")\r\n",
        "med"
      ],
      "execution_count": null,
      "outputs": []
    },
    {
      "cell_type": "code",
      "metadata": {
        "id": "Q2TJEy55qWoB"
      },
      "source": [
        "datas = datas.fillna(med)"
      ],
      "execution_count": null,
      "outputs": []
    },
    {
      "cell_type": "code",
      "metadata": {
        "id": "j1qHBlSLuNTD"
      },
      "source": [
        "most = datas[\"Embarked\"].value_counts().idxmax()\r\n",
        "datas[\"Embarked\"] = datas[\"Embarked\"].fillna(most)"
      ],
      "execution_count": null,
      "outputs": []
    },
    {
      "cell_type": "code",
      "metadata": {
        "id": "SNJI32dtvORV"
      },
      "source": [
        "def cabin(c):\r\n",
        "    if pd.isna(c):\r\n",
        "        return None\r\n",
        "    else:\r\n",
        "        return c[0]\r\n",
        "datas[\"Cabin\"] = datas[\"Cabin\"].apply(cabin)"
      ],
      "execution_count": null,
      "outputs": []
    },
    {
      "cell_type": "code",
      "metadata": {
        "id": "TDqeIOK-vyVM"
      },
      "source": [
        "def name(n):\r\n",
        "    n = n.split(\",\")[-1].split(\".\")[0]\r\n",
        "    return n.strip()\r\n",
        "count = datas[\"Name\"].apply(name).value_counts()\r\n",
        "# ['Mr', 'Miss', 'Mrs', 'Master']\r\n",
        "reserved = count[:4].index\r\n",
        "def name(n):\r\n",
        "    n = n.split(\",\")[-1].split(\".\")[0]\r\n",
        "    n = n.strip()\r\n",
        "    if n in reserved:\r\n",
        "        return n\r\n",
        "    else:\r\n",
        "        return None\r\n",
        "datas[\"Name\"] = datas[\"Name\"].apply(name)"
      ],
      "execution_count": null,
      "outputs": []
    },
    {
      "cell_type": "code",
      "metadata": {
        "id": "D0X8h03SeDn9"
      },
      "source": [
        "datas"
      ],
      "execution_count": null,
      "outputs": []
    },
    {
      "cell_type": "code",
      "metadata": {
        "id": "eVje95Hef4Jd"
      },
      "source": [
        "datas = pd.get_dummies(datas)\r\n",
        "datas = pd.get_dummies(datas, columns=[\"Pclass\"])\r\n",
        "datas"
      ],
      "execution_count": null,
      "outputs": []
    },
    {
      "cell_type": "code",
      "metadata": {
        "id": "CVrG1H4emJA6"
      },
      "source": [
        "datas[\"Family\"] = datas[\"SibSp\"] + datas[\"Parch\"]\r\n",
        "datas"
      ],
      "execution_count": null,
      "outputs": []
    },
    {
      "cell_type": "code",
      "metadata": {
        "id": "H2aLYhzpwmPV"
      },
      "source": [
        "# iloc: [1st, 2nd, ....]\r\n",
        "x_train = datas.iloc[:len(train)]\r\n",
        "y_train = train[\"Survived\"]\r\n",
        "x_test = datas.iloc[len(train):]\r\n",
        "x_test"
      ],
      "execution_count": null,
      "outputs": []
    },
    {
      "cell_type": "code",
      "metadata": {
        "id": "WrzPutUQ2HwA"
      },
      "source": [
        "from sklearn.ensemble import RandomForestClassifier\r\n",
        "from sklearn.model_selection import GridSearchCV\r\n",
        "params = {\r\n",
        "   \"n_estimators\":range(15, 35),\r\n",
        "   \"max_depth\":range(5, 9)\r\n",
        "}\r\n",
        "clf = RandomForestClassifier()\r\n",
        "search = GridSearchCV(clf, params, n_jobs=-1, cv=10)\r\n",
        "search.fit(x_train, y_train)\r\n",
        "print(search.best_score_)\r\n",
        "print(search.best_params_)"
      ],
      "execution_count": null,
      "outputs": []
    },
    {
      "cell_type": "code",
      "metadata": {
        "id": "bvvecCazz5su"
      },
      "source": [
        "import numpy as np\r\n",
        "from sklearn.model_selection import cross_val_score\r\n",
        "clf = RandomForestClassifier(n_estimators=25, max_depth=7)\r\n",
        "scores = cross_val_score(clf, x_train, y_train, n_jobs=-1, cv=10)\r\n",
        "print(scores)\r\n",
        "print(np.average(scores))"
      ],
      "execution_count": null,
      "outputs": []
    },
    {
      "cell_type": "code",
      "metadata": {
        "id": "jMNbeZmLUOIR"
      },
      "source": [
        "clf = RandomForestClassifier(n_estimators=25, max_depth=7)\r\n",
        "clf.fit(x_train, y_train)\r\n",
        "pre = clf.predict(x_test)\r\n",
        "df = pd.DataFrame({\r\n",
        "    \"PassengerId\":test[\"PassengerId\"],\r\n",
        "    \"Survived\":pre\r\n",
        "})\r\n",
        "df.to_csv(\"rf.csv\", encoding=\"utf-8\", index=False)"
      ],
      "execution_count": null,
      "outputs": []
    },
    {
      "cell_type": "code",
      "metadata": {
        "id": "3pZEUk7FUgq6"
      },
      "source": [
        "import matplotlib.pyplot as plt\r\n",
        "from sklearn.tree import plot_tree\r\n",
        "print(len(clf.estimators_))\r\n",
        "plt.figure(figsize=(15, 15))\r\n",
        "tree = plot_tree(clf.estimators_[3], \r\n",
        "         feature_names=datas.columns,\r\n",
        "         class_names=[\"Dead\", \"Alive\"],\r\n",
        "         max_depth=2,\r\n",
        "         filled=True)\r\n",
        "plt.show()"
      ],
      "execution_count": null,
      "outputs": []
    },
    {
      "cell_type": "code",
      "metadata": {
        "id": "vgHjvpS8WNCZ"
      },
      "source": [
        "from sklearn.preprocessing import MinMaxScaler\r\n",
        "# iloc: [1st, 2nd, ....]\r\n",
        "scaler = MinMaxScaler()\r\n",
        "datas_scale = scaler.fit_transform(datas)\r\n",
        "datas_scale = pd.DataFrame(datas_scale, columns=datas.columns)\r\n",
        "x_train_scale = datas_scale.iloc[:len(train)]\r\n",
        "x_test_scale = datas_scale.iloc[len(train):]\r\n",
        "x_test_scale"
      ],
      "execution_count": null,
      "outputs": []
    },
    {
      "cell_type": "code",
      "metadata": {
        "id": "YvgBHf2TdhFa"
      },
      "source": [
        "from sklearn.neighbors import KNeighborsClassifier\r\n",
        "params = {\r\n",
        "   \"n_neighbors\":range(5, 100)\r\n",
        "}\r\n",
        "clf = KNeighborsClassifier()\r\n",
        "search = GridSearchCV(clf, params, n_jobs=-1, cv=10)\r\n",
        "search.fit(x_train_scale, y_train)\r\n",
        "print(search.best_score_)\r\n",
        "print(search.best_params_)"
      ],
      "execution_count": null,
      "outputs": []
    },
    {
      "cell_type": "code",
      "metadata": {
        "id": "q30PZGJ8eX9E"
      },
      "source": [
        "clf = KNeighborsClassifier(n_neighbors=11)\r\n",
        "clf.fit(x_train_scale, y_train)\r\n",
        "pre = clf.predict(x_test_scale)\r\n",
        "df = pd.DataFrame({\r\n",
        "    \"PassengerId\":test[\"PassengerId\"],\r\n",
        "    \"Survived\":pre\r\n",
        "})\r\n",
        "df.to_csv(\"knn.csv\", encoding=\"utf-8\", index=False)"
      ],
      "execution_count": null,
      "outputs": []
    }
  ]
}