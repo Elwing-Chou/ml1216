{
  "nbformat": 4,
  "nbformat_minor": 0,
  "metadata": {
    "colab": {
      "name": "tools.ipynb",
      "private_outputs": true,
      "provenance": [],
      "authorship_tag": "ABX9TyM2Fx78hRBl5P054Wf1UpQ5",
      "include_colab_link": true
    },
    "kernelspec": {
      "name": "python3",
      "display_name": "Python 3"
    }
  },
  "cells": [
    {
      "cell_type": "markdown",
      "metadata": {
        "id": "view-in-github",
        "colab_type": "text"
      },
      "source": [
        "<a href=\"https://colab.research.google.com/github/Elwing-Chou/ml1216/blob/main/tools.ipynb\" target=\"_parent\"><img src=\"https://colab.research.google.com/assets/colab-badge.svg\" alt=\"Open In Colab\"/></a>"
      ]
    },
    {
      "cell_type": "code",
      "metadata": {
        "id": "0BJepDM1x5H9"
      },
      "source": [
        "!pip install opencc-python-reimplemented"
      ],
      "execution_count": null,
      "outputs": []
    },
    {
      "cell_type": "code",
      "metadata": {
        "id": "w09MCfIbzK1V"
      },
      "source": [
        "s = \"\"\"2.使用工具从压缩包中抽取正文文本\r\n",
        "使用维基百科语料的方便之处就是，它有很多现成的工具可以帮助我们方便高效的提取语料。我们这一步使用Wikipedia Extractor从压缩包中提取正文文本。你下载的压缩包越大，提取的时间也就越长。点击Wikipedia Extractor Github下载地址将里面的代码复制到一个python文件中，命名为WikiExtractor.py（名字可以任意起，修改后将命令中对应位置改好即可）。\r\n",
        "\r\n",
        "Wikipedia Extractor\r\n",
        "​\r\n",
        "medialab.di.unipi.it\r\n",
        "Wikipedia Extractor Github下载地址\r\n",
        "​\r\n",
        "github.com\r\n",
        "执行下面的命令从压缩包中提取正文文本。\r\n",
        "\r\n",
        "python WikiExtractor.py -b 500M -o output_filename input_filename.bz2\r\n",
        "这里需要说明：\r\n",
        "\r\n",
        "WikiExtractor.py里面存放Wikipedia Extractor代码；\r\n",
        "-b 1000M表示的是以1000M为单位进行切分，有时候可能语料太大，我们可能需要切分成几个小的文件（默认），这里由于我需要处理的包只有198M，所以存入一个文件就行了，所以只需要设置的大小比198M大即可；\r\n",
        "output_filename：需要将提取的文件存放的路径；\r\n",
        "input_filename.bz2：需要进行提取的.bz2文件的路径；\"\"\""
      ],
      "execution_count": null,
      "outputs": []
    },
    {
      "cell_type": "code",
      "metadata": {
        "id": "oK9UJBHXyzBd"
      },
      "source": [
        "from opencc import OpenCC\r\n",
        "converter = OpenCC(\"s2twp\")\r\n",
        "converter.convert(s)"
      ],
      "execution_count": null,
      "outputs": []
    },
    {
      "cell_type": "code",
      "metadata": {
        "id": "uYx7YCNtzhoe"
      },
      "source": [
        ""
      ],
      "execution_count": null,
      "outputs": []
    }
  ]
}