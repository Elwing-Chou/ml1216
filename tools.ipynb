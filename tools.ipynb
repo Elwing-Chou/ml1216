{
  "nbformat": 4,
  "nbformat_minor": 0,
  "metadata": {
    "colab": {
      "name": "tools.ipynb",
      "private_outputs": true,
      "provenance": [],
      "authorship_tag": "ABX9TyMyjp37XjSSkG6jPxMmaU2Z",
      "include_colab_link": true
    },
    "kernelspec": {
      "name": "python3",
      "display_name": "Python 3"
    }
  },
  "cells": [
    {
      "cell_type": "markdown",
      "metadata": {
        "id": "view-in-github",
        "colab_type": "text"
      },
      "source": [
        "<a href=\"https://colab.research.google.com/github/Elwing-Chou/ml1216/blob/main/tools.ipynb\" target=\"_parent\"><img src=\"https://colab.research.google.com/assets/colab-badge.svg\" alt=\"Open In Colab\"/></a>"
      ]
    },
    {
      "cell_type": "code",
      "metadata": {
        "id": "0BJepDM1x5H9"
      },
      "source": [
        "!pip install opencc-python-reimplemented"
      ],
      "execution_count": null,
      "outputs": []
    },
    {
      "cell_type": "code",
      "metadata": {
        "id": "w09MCfIbzK1V"
      },
      "source": [
        "s = \"\"\"2.使用工具从压缩包中抽取正文文本\r\n",
        "使用维基百科语料的方便之处就是，它有很多现成的工具可以帮助我们方便高效的提取语料。我们这一步使用Wikipedia Extractor从压缩包中提取正文文本。你下载的压缩包越大，提取的时间也就越长。点击Wikipedia Extractor Github下载地址将里面的代码复制到一个python文件中，命名为WikiExtractor.py（名字可以任意起，修改后将命令中对应位置改好即可）。\r\n",
        "\r\n",
        "Wikipedia Extractor\r\n",
        "​\r\n",
        "medialab.di.unipi.it\r\n",
        "Wikipedia Extractor Github下载地址\r\n",
        "​\r\n",
        "github.com\r\n",
        "执行下面的命令从压缩包中提取正文文本。\r\n",
        "\r\n",
        "python WikiExtractor.py -b 500M -o output_filename input_filename.bz2\r\n",
        "这里需要说明：\r\n",
        "\r\n",
        "WikiExtractor.py里面存放Wikipedia Extractor代码；\r\n",
        "-b 1000M表示的是以1000M为单位进行切分，有时候可能语料太大，我们可能需要切分成几个小的文件（默认），这里由于我需要处理的包只有198M，所以存入一个文件就行了，所以只需要设置的大小比198M大即可；\r\n",
        "output_filename：需要将提取的文件存放的路径；\r\n",
        "input_filename.bz2：需要进行提取的.bz2文件的路径；\"\"\""
      ],
      "execution_count": null,
      "outputs": []
    },
    {
      "cell_type": "code",
      "metadata": {
        "id": "oK9UJBHXyzBd"
      },
      "source": [
        "from opencc import OpenCC\r\n",
        "converter = OpenCC(\"s2twp\")\r\n",
        "converter.convert(s)"
      ],
      "execution_count": null,
      "outputs": []
    },
    {
      "cell_type": "code",
      "metadata": {
        "id": "gn6fQmOHRwPd"
      },
      "source": [
        "news = \"\"\"\r\n",
        "莫斯科芭蕾舞團4人確診武漢肺炎，指揮中心指揮官陳時中今天證實，其餘團員還有確診者，所有團員須居家隔離，後續演出全面取消，未來也研議比照移工居家檢疫期滿再加強採檢。\r\n",
        "\r\n",
        "莫斯科芭蕾舞團演出取消 全額退票無期限\r\n",
        "中央流行疫情指揮中心昨天下午宣布，原訂昨晚在台首演的莫斯科古典芭蕾舞團有4名俄羅斯籍團員確診，其餘48名團員雖然已經完成14天居家檢疫且一採陰性，但為求謹慎，仍要求全面二採，確認陰性才能如期登台演出，直到傍晚主辦單位自行宣布演出取消，但因為其餘團員已在台展開排練，檢驗結果仍引發各界關注。\r\n",
        "\r\n",
        "陳時中今天上午出席2020台北音響藝術大展會前接受媒體聯訪時證實，其餘48名團員「還有幾位確診」，目前已經展開相關疫調以及旅社清消。\r\n",
        "\r\n",
        "有媒體質疑，昨天已有團員確診，指揮中心為何還要等二採陰性結果出爐，才決定是否取消演出。\r\n",
        "\r\n",
        "陳時中表示，為了兼顧防疫、商業主辦單位權益，原本才規劃若其餘團員採檢均為陰性就續辦活動，若有人確診就停辦，但後來主辦單位主動宣布停辦，就沒有這個問題。\r\n",
        "\r\n",
        "不過，陳時中指出，由於二次採檢仍有新增確診者，代表這個舞團在台演出機會「就沒有了」，其他團員將被視為確診者的接觸者進行居家隔離，後續演出全面取消，至於確診者相關足跡、接觸者，正在進行疫調。\r\n",
        "\r\n",
        "他指出，根據目前了解到的狀況，芭蕾舞團確診個案有1人Ct值為31，其餘大概35，代表病毒量相對低，傳染性也相對低，未來雖不會調整表演團體來台規定，但對於檢疫期滿前是否進行採檢，會再做考慮。（編輯：張雅淨）1091217\r\n",
        "\r\n",
        "莫斯科芭蕾舞團4人確診武漢肺炎，中央流行疫情指揮中心指揮官陳時中（中）17日證實，其餘48名團員經篩檢還有人確診，所有團員須居家隔離，後續演出全面取消。\r\n",
        "\"\"\""
      ],
      "execution_count": null,
      "outputs": []
    },
    {
      "cell_type": "code",
      "metadata": {
        "id": "Tz1TFVc5Vm4f"
      },
      "source": [
        "import os\r\n",
        "import jieba\r\n",
        "from urllib.request import urlretrieve\r\n",
        "if not os.path.exists(\"dict.txt.big\"):\r\n",
        "    url = \"https://github.com/fxsjy/jieba/raw/master/extra_dict/dict.txt.big\"\r\n",
        "    urlretrieve(url, \"dict.txt.big\")\r\n",
        "jieba.set_dictionary(\"dict.txt.big\")\r\n",
        "jieba.load_userdict(\"mydict.txt\")\r\n",
        "\" \".join(jieba.cut(news))"
      ],
      "execution_count": null,
      "outputs": []
    },
    {
      "cell_type": "code",
      "metadata": {
        "id": "uVVPpmx3Rcuw"
      },
      "source": [
        "import jieba.analyse\r\n",
        "jieba.analyse.extract_tags(news, topK=None, withWeight=True)"
      ],
      "execution_count": null,
      "outputs": []
    }
  ]
}