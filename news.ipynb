{
  "nbformat": 4,
  "nbformat_minor": 0,
  "metadata": {
    "colab": {
      "name": "news.ipynb",
      "private_outputs": true,
      "provenance": [],
      "mount_file_id": "1-5sABd7FYsuTMdeEj2vaiK7yvQWUF4kU",
      "authorship_tag": "ABX9TyOeRIy9t0gXLvWUlbChiun8",
      "include_colab_link": true
    },
    "kernelspec": {
      "name": "python3",
      "display_name": "Python 3"
    }
  },
  "cells": [
    {
      "cell_type": "markdown",
      "metadata": {
        "id": "view-in-github",
        "colab_type": "text"
      },
      "source": [
        "<a href=\"https://colab.research.google.com/github/Elwing-Chou/ml1216/blob/main/news.ipynb\" target=\"_parent\"><img src=\"https://colab.research.google.com/assets/colab-badge.svg\" alt=\"Open In Colab\"/></a>"
      ]
    },
    {
      "cell_type": "code",
      "metadata": {
        "id": "3euZXEewAMCq"
      },
      "source": [
        "import zipfile\r\n",
        "f = zipfile.ZipFile(\"drive/MyDrive/news/chinese_news_trans.zip\")\r\n",
        "f.extractall()\r\n",
        "f = zipfile.ZipFile(\"drive/MyDrive/news/chinese_news_test.zip\")\r\n",
        "f.extractall()"
      ],
      "execution_count": null,
      "outputs": []
    },
    {
      "cell_type": "code",
      "metadata": {
        "id": "pRzrQR0aB_tY"
      },
      "source": [
        "import os\r\n",
        "import glob\r\n",
        "import pandas as pd\r\n",
        "def load_data(base):\r\n",
        "    datas = {\r\n",
        "        \"content\":[],\r\n",
        "        \"category\":[]\r\n",
        "    }\r\n",
        "    for dn in glob.glob(\"{}/*\".format(base)):\r\n",
        "        small = os.path.join(dn, \"*.txt\")\r\n",
        "        big = os.path.join(dn, \"*.TXT\")\r\n",
        "        for fn in glob.glob(small) + glob.glob(big):\r\n",
        "            with open(fn, encoding=\"utf-8\") as f:\r\n",
        "                news = f.read()\r\n",
        "                datas[\"content\"].append(news)\r\n",
        "                cat = os.path.split(dn)[-1]\r\n",
        "                datas[\"category\"].append(cat)\r\n",
        "    return pd.DataFrame(datas)\r\n",
        "train = load_data(\"chinese_news_trans\")\r\n",
        "test = load_data(\"chinese_news_test\")"
      ],
      "execution_count": null,
      "outputs": []
    },
    {
      "cell_type": "code",
      "metadata": {
        "id": "R849-quBEiN0"
      },
      "source": [
        "test"
      ],
      "execution_count": null,
      "outputs": []
    }
  ]
}