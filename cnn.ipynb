{
  "nbformat": 4,
  "nbformat_minor": 0,
  "metadata": {
    "colab": {
      "name": "cnn.ipynb",
      "private_outputs": true,
      "provenance": [],
      "authorship_tag": "ABX9TyOLX7pdC5ckJfL65L0ciyCW",
      "include_colab_link": true
    },
    "kernelspec": {
      "name": "python3",
      "display_name": "Python 3"
    },
    "accelerator": "GPU"
  },
  "cells": [
    {
      "cell_type": "markdown",
      "metadata": {
        "id": "view-in-github",
        "colab_type": "text"
      },
      "source": [
        "<a href=\"https://colab.research.google.com/github/Elwing-Chou/ml1216/blob/main/cnn.ipynb\" target=\"_parent\"><img src=\"https://colab.research.google.com/assets/colab-badge.svg\" alt=\"Open In Colab\"/></a>"
      ]
    },
    {
      "cell_type": "code",
      "metadata": {
        "id": "f5qjrSQt0YIF"
      },
      "source": [
        "from tensorflow.keras.datasets.cifar10 import load_data\r\n",
        "(x_train, y_train), (x_test, y_test) = load_data()"
      ],
      "execution_count": null,
      "outputs": []
    },
    {
      "cell_type": "code",
      "metadata": {
        "id": "_3X6jGN90ukI"
      },
      "source": [
        "# mnist: reshape(60000, 28, 28, 1)\r\n",
        "print(x_train.shape)\r\n",
        "print(y_train.shape)\r\n",
        "print(x_test.shape)\r\n",
        "print(y_test.shape)"
      ],
      "execution_count": null,
      "outputs": []
    },
    {
      "cell_type": "code",
      "metadata": {
        "id": "qYmTk61q2C5h"
      },
      "source": [
        "labels = [\r\n",
        "    \"airplane\",\r\n",
        "    \"automobile\",\r\n",
        "    \"bird\",\r\n",
        "    \"cat\",\r\n",
        "    \"deer\",\r\n",
        "    \"dog\",\r\n",
        "    \"frog\",\r\n",
        "    \"horse\",\r\n",
        "    \"ship\",\r\n",
        "    \"truck\"     \r\n",
        "]\r\n"
      ],
      "execution_count": null,
      "outputs": []
    },
    {
      "cell_type": "code",
      "metadata": {
        "id": "TFS1Nwle1dnA"
      },
      "source": [
        "import matplotlib.pyplot as plt\r\n",
        "import random\r\n",
        "idx = random.randint(0, 49999)\r\n",
        "print(labels[y_train[idx][0]])\r\n",
        "plt.imshow(x_train[idx])"
      ],
      "execution_count": null,
      "outputs": []
    },
    {
      "cell_type": "code",
      "metadata": {
        "id": "2ogGAHZS2kNR"
      },
      "source": [
        "from tensorflow.keras.models import Sequential\r\n",
        "from tensorflow.keras.layers import Conv2D, MaxPooling2D\r\n",
        "from tensorflow.keras.layers import Dense, Dropout, Flatten\r\n",
        "layers = [\r\n",
        "    Conv2D(64, 3, activation=\"relu\", padding=\"same\", input_shape=(32, 32, 3)),\r\n",
        "    MaxPooling2D(),\r\n",
        "    Conv2D(128, 3, activation=\"relu\", padding=\"same\"),\r\n",
        "    MaxPooling2D(),\r\n",
        "    Conv2D(256, 3, activation=\"relu\", padding=\"same\"),\r\n",
        "    MaxPooling2D(),\r\n",
        "    Flatten(),\r\n",
        "    Dense(256, activation=\"relu\"),\r\n",
        "    Dropout(0.25),\r\n",
        "    Dense(10, activation=\"softmax\")\r\n",
        "]\r\n",
        "model = Sequential(layers)\r\n",
        "model.summary()"
      ],
      "execution_count": null,
      "outputs": []
    }
  ]
}