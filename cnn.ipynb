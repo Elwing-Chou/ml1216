{
  "nbformat": 4,
  "nbformat_minor": 0,
  "metadata": {
    "colab": {
      "name": "cnn.ipynb",
      "private_outputs": true,
      "provenance": [],
      "authorship_tag": "ABX9TyMOgS/U1p4ou9DmijmR2e4G",
      "include_colab_link": true
    },
    "kernelspec": {
      "name": "python3",
      "display_name": "Python 3"
    },
    "accelerator": "GPU"
  },
  "cells": [
    {
      "cell_type": "markdown",
      "metadata": {
        "id": "view-in-github",
        "colab_type": "text"
      },
      "source": [
        "<a href=\"https://colab.research.google.com/github/Elwing-Chou/ml1216/blob/main/cnn.ipynb\" target=\"_parent\"><img src=\"https://colab.research.google.com/assets/colab-badge.svg\" alt=\"Open In Colab\"/></a>"
      ]
    },
    {
      "cell_type": "code",
      "metadata": {
        "id": "f5qjrSQt0YIF"
      },
      "source": [
        "from tensorflow.keras.datasets.cifar10 import load_data\r\n",
        "(x_train, y_train), (x_test, y_test) = load_data()"
      ],
      "execution_count": null,
      "outputs": []
    },
    {
      "cell_type": "code",
      "metadata": {
        "id": "_3X6jGN90ukI"
      },
      "source": [
        "# mnist: reshape(60000, 28, 28, 1)\r\n",
        "print(x_train.shape)\r\n",
        "print(y_train.shape)\r\n",
        "print(x_test.shape)\r\n",
        "print(y_test.shape)"
      ],
      "execution_count": null,
      "outputs": []
    },
    {
      "cell_type": "code",
      "metadata": {
        "id": "qYmTk61q2C5h"
      },
      "source": [
        "labels = [\r\n",
        "    \"airplane\",\r\n",
        "    \"automobile\",\r\n",
        "    \"bird\",\r\n",
        "    \"cat\",\r\n",
        "    \"deer\",\r\n",
        "    \"dog\",\r\n",
        "    \"frog\",\r\n",
        "    \"horse\",\r\n",
        "    \"ship\",\r\n",
        "    \"truck\"     \r\n",
        "]\r\n"
      ],
      "execution_count": null,
      "outputs": []
    },
    {
      "cell_type": "code",
      "metadata": {
        "id": "TFS1Nwle1dnA"
      },
      "source": [
        "import matplotlib.pyplot as plt\r\n",
        "import random\r\n",
        "idx = random.randint(0, 49999)\r\n",
        "print(labels[y_train[idx][0]])\r\n",
        "plt.imshow(x_train[idx])"
      ],
      "execution_count": null,
      "outputs": []
    },
    {
      "cell_type": "code",
      "metadata": {
        "id": "2ogGAHZS2kNR"
      },
      "source": [
        "from tensorflow.keras.models import Sequential\r\n",
        "from tensorflow.keras.layers import Conv2D, MaxPooling2D\r\n",
        "from tensorflow.keras.layers import Dense, Dropout, Flatten\r\n",
        "layers = [\r\n",
        "    # 1(3 * 3 * 3) * 64個 + 64 = 1792\r\n",
        "    Conv2D(64, 3, activation=\"relu\", padding=\"same\", input_shape=(32, 32, 3)),\r\n",
        "    MaxPooling2D(),\r\n",
        "    # 1(3 * 3 * 64) * 128個 + 128(bias) = 73856\r\n",
        "    Conv2D(128, 3, activation=\"relu\", padding=\"same\"),\r\n",
        "    MaxPooling2D(),\r\n",
        "    Conv2D(256, 3, activation=\"relu\", padding=\"same\"),\r\n",
        "    MaxPooling2D(),\r\n",
        "    Flatten(),\r\n",
        "    Dense(256, activation=\"relu\"),\r\n",
        "    Dropout(0.25),\r\n",
        "    Dense(10, activation=\"softmax\")\r\n",
        "]\r\n",
        "model = Sequential(layers)\r\n",
        "model.summary()"
      ],
      "execution_count": null,
      "outputs": []
    },
    {
      "cell_type": "code",
      "metadata": {
        "id": "u2_kseBHDh7m"
      },
      "source": [
        "x_train_norm = x_train / 255\r\n",
        "x_test_norm = x_test / 255"
      ],
      "execution_count": null,
      "outputs": []
    },
    {
      "cell_type": "code",
      "metadata": {
        "id": "5VK98ID0EEDa"
      },
      "source": [
        "from tensorflow.keras.losses import SparseCategoricalCrossentropy\r\n",
        "model.compile(loss=SparseCategoricalCrossentropy(),\r\n",
        "       optimizer=\"adam\",\r\n",
        "       metrics=[\"accuracy\"])"
      ],
      "execution_count": null,
      "outputs": []
    },
    {
      "cell_type": "code",
      "metadata": {
        "id": "qltww7uhEiu8"
      },
      "source": [
        "from tensorflow.keras.callbacks import ModelCheckpoint, EarlyStopping\r\n",
        "callbacks = [\r\n",
        "    EarlyStopping(patience=5, restore_best_weights=True),\r\n",
        "    ModelCheckpoint(\"model.h5\", save_best_only=True)\r\n",
        "]\r\n",
        "# validation_split: 切出一部分資料驗證\r\n",
        "# batch_size: 看多少筆才做一次調整(梯度下降)\r\n",
        "# epochs: 訓練次數(60000-6000筆/epoch)\r\n",
        "# 1 epoch 多少次梯度下降: 54000 / 200 -> 270\r\n",
        "# verbose: 印出多少log(1:default 0:quiet 2:)\r\n",
        "model.fit(x_train_norm, \r\n",
        "     y_train,\r\n",
        "     validation_split=0.1,\r\n",
        "     batch_size=200,\r\n",
        "     epochs=50,\r\n",
        "     verbose=2,\r\n",
        "     callbacks=callbacks)"
      ],
      "execution_count": null,
      "outputs": []
    },
    {
      "cell_type": "code",
      "metadata": {
        "id": "shcewQUJE95P"
      },
      "source": [
        "model.evaluate(x_test_norm, y_test)"
      ],
      "execution_count": null,
      "outputs": []
    },
    {
      "cell_type": "code",
      "metadata": {
        "id": "cI-V5x-PKK6s"
      },
      "source": [
        "y_test_r = y_test.reshape(-1)\r\n",
        "y_test_r"
      ],
      "execution_count": null,
      "outputs": []
    },
    {
      "cell_type": "code",
      "metadata": {
        "id": "qoUOTX6dJpjs"
      },
      "source": [
        "# sklearn: predict_proba/predict\r\n",
        "# keras: predict/predict_classes\r\n",
        "import pandas as pd\r\n",
        "from sklearn.metrics import confusion_matrix\r\n",
        "pre = model.predict_classes(x_test_norm)\r\n",
        "mat = confusion_matrix(y_test_r, pre)\r\n",
        "pd.DataFrame(mat,\r\n",
        "       index=[\"{}(真實)\".format(labels[i]) for i in range(10)],\r\n",
        "       columns=[\"{}(預測)\".format(labels[i]) for i in range(10)])"
      ],
      "execution_count": null,
      "outputs": []
    },
    {
      "cell_type": "code",
      "metadata": {
        "id": "aZHEVnt4KCF0"
      },
      "source": [
        "import numpy as np\r\n",
        "idx = np.nonzero(pre != y_test_r)[0]\r\n",
        "idx = idx[:200]\r\n",
        "false_pre = pre[idx]\r\n",
        "false_ori = y_test_r[idx]\r\n",
        "false_img = x_test[idx]\r\n",
        "\r\n",
        "plt.figure(figsize=(14, 42))\r\n",
        "width = 10\r\n",
        "height = len(idx) // width + 1\r\n",
        "for i in range(len(idx)):\r\n",
        "    plt.subplot(height, width, i+1)\r\n",
        "    t = \"[O]:{}\\n[P]:{}\".format(labels[false_ori[i]], labels[false_pre[i]])\r\n",
        "    plt.title(t)\r\n",
        "    plt.axis(\"off\")\r\n",
        "    plt.imshow(false_img[i])"
      ],
      "execution_count": null,
      "outputs": []
    },
    {
      "cell_type": "code",
      "metadata": {
        "id": "K8mlUScPMDF0"
      },
      "source": [
        "from tensorflow.keras.preprocessing.image import load_img\r\n",
        "from PIL import Image\r\n",
        "import requests\r\n",
        "url = input(\"url:\")\r\n",
        "headers = {\r\n",
        "    \"user-agent\":\"Mozilla/5.0 (Windows NT 10.0; Win64; x64) AppleWebKit/537.36 (KHTML, like Gecko) Chrome/87.0.4280.88 Safari/537.36\"\r\n",
        "}\r\n",
        "response = requests.get(url, stream=True, verify=False, headers=headers)\r\n",
        "\r\n",
        "img = Image.open(response.raw).resize((32, 32)).convert(\"RGB\")\r\n",
        "img = np.array(img)\r\n",
        "img_r = img.reshape(1, 32, 32, 3) / 255\r\n",
        "proba = model.predict(img_r)[0]\r\n",
        "for i in range(10):\r\n",
        "    print(labels[i], \"的機率:\", round(proba[i], 3))\r\n",
        "ans = model.predict_classes(img_r)[0]\r\n",
        "print(\"答案:\", labels[ans])\r\n",
        "plt.imshow(img, cmap=\"gray\")"
      ],
      "execution_count": null,
      "outputs": []
    }
  ]
}