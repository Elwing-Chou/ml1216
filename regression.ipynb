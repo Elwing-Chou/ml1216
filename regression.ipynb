{
  "nbformat": 4,
  "nbformat_minor": 0,
  "metadata": {
    "colab": {
      "name": "regression.ipynb",
      "private_outputs": true,
      "provenance": [],
      "collapsed_sections": [],
      "authorship_tag": "ABX9TyMynn9bJdCUttZhzoN1gEzs",
      "include_colab_link": true
    },
    "kernelspec": {
      "name": "python3",
      "display_name": "Python 3"
    }
  },
  "cells": [
    {
      "cell_type": "markdown",
      "metadata": {
        "id": "view-in-github",
        "colab_type": "text"
      },
      "source": [
        "<a href=\"https://colab.research.google.com/github/Elwing-Chou/ml1216/blob/main/regression.ipynb\" target=\"_parent\"><img src=\"https://colab.research.google.com/assets/colab-badge.svg\" alt=\"Open In Colab\"/></a>"
      ]
    },
    {
      "cell_type": "markdown",
      "metadata": {
        "id": "4kRqGoArnML6"
      },
      "source": [
        "CRIM：人均犯罪率\r\n",
        "\r\n",
        "ZN：25,000平方英尺以上民用土地的比例\r\n",
        "\r\n",
        "INDUS：城镇非零售业商用土地比例\r\n",
        "\r\n",
        "CHAS：是否邻近查尔斯河，1是邻近，0是不邻近\r\n",
        "\r\n",
        "NOX：一氧化氮浓度（千万分之一）\r\n",
        "\r\n",
        "RM：住宅的平均房间数\r\n",
        "\r\n",
        "AGE：自住且建于1940年前的房屋比例\r\n",
        "\r\n",
        "DIS：到5个波士顿就业中心的加权距离\r\n",
        "\r\n",
        "RAD：到高速公路的便捷度指数\r\n",
        "\r\n",
        "TAX：每万元的房产税率\r\n",
        "\r\n",
        "PTRATIO：城镇学生教师比例\r\n",
        "\r\n",
        "B： 1000(Bk − 0.63)2 其中Bk是城镇中黑人比例\r\n",
        "\r\n",
        "LSTAT：低收入人群比例\r\n",
        "\r\n",
        "ans：自住房中位数价格，单位是千元"
      ]
    },
    {
      "cell_type": "code",
      "metadata": {
        "id": "DjuvVmbJgSuQ"
      },
      "source": [
        "import pandas as pd\r\n",
        "from sklearn.datasets import load_boston\r\n",
        "boston = load_boston()\r\n",
        "df = pd.DataFrame(boston[\"data\"], \r\n",
        "          columns=boston[\"feature_names\"])\r\n",
        "df[\"ans\"] = boston[\"target\"]\r\n",
        "df.to_csv(\"boston.csv\", encoding=\"utf-8\", index=False)\r\n",
        "df"
      ],
      "execution_count": null,
      "outputs": []
    },
    {
      "cell_type": "code",
      "metadata": {
        "id": "OFn76HzMKDq5"
      },
      "source": [
        "# list(X), pandas(X) -> numpy\r\n",
        "import numpy as np\r\n",
        "from sklearn.model_selection import train_test_split\r\n",
        "x = df.drop([\"ans\"], axis=1)\r\n",
        "y = df[\"ans\"]\r\n",
        "x, y = np.array(x), np.array(y)\r\n",
        "x_train, x_test, y_train, y_test = train_test_split(x, y, test_size=0.1)"
      ],
      "execution_count": null,
      "outputs": []
    },
    {
      "cell_type": "code",
      "metadata": {
        "id": "7b1E9Oo0OLpk"
      },
      "source": [
        "from sklearn.tree import DecisionTreeRegressor\r\n",
        "reg = DecisionTreeRegressor(max_depth=5)\r\n",
        "reg.fit(x_train, y_train)"
      ],
      "execution_count": null,
      "outputs": []
    },
    {
      "cell_type": "code",
      "metadata": {
        "id": "D7KP7XhRSvwB"
      },
      "source": [
        "import matplotlib.pyplot as plt\r\n",
        "from sklearn.tree import plot_tree\r\n",
        "plt.figure(figsize=(15, 15))\r\n",
        "tree = plot_tree(reg, \r\n",
        "         feature_names=boston[\"feature_names\"],\r\n",
        "         filled=True,\r\n",
        "         max_depth=2)\r\n",
        "plt.show()"
      ],
      "execution_count": null,
      "outputs": []
    },
    {
      "cell_type": "code",
      "metadata": {
        "id": "ShCLyI9Np32v"
      },
      "source": [
        "from sklearn.metrics import r2_score\r\n",
        "pre = reg.predict(x_test)\r\n",
        "r2_score(y_test, pre)"
      ],
      "execution_count": null,
      "outputs": []
    }
  ]
}